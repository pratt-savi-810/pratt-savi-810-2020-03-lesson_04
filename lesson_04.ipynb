{
 "cells": [
  {
   "cell_type": "markdown",
   "metadata": {},
   "source": [
    "# Lesson 04\n",
    "\n",
    "# Exploratory Data Analysis & Visualization \n",
    "\n",
    "\n",
    "![http://www.pratt.edu/tiny_mce/plugins/imagemanager/files/Light_brown_blue22.jpg](http://www.pratt.edu/tiny_mce/plugins/imagemanager/files/Light_brown_blue22.jpg)"
   ]
  },
  {
   "cell_type": "markdown",
   "metadata": {},
   "source": [
    "# Class Links\n",
    "\n",
    "* [Syllabus](https://docs.google.com/document/d/1KHxT-NkaoXXdSNkK8JlzL2FFgmNoxPQ25fwgtXPnbrY)\n",
    "\n",
    "* [Class Google Spreadsheet](https://docs.google.com/spreadsheets/d/1t481r7HjQBbjNtFOABSOlcckzQhdrh12TCzpSYKurI0/edit?usp=sharing)\n",
    "\n",
    "* [Google Meetup Video Hangout](https://meet.google.com/aym-kxae-bzr)\n",
    "\n",
    "  * For United States Dial +1 \n",
    "    * (669) 220-6376\n",
    "  * Enter this PIN when prompted: \n",
    "    * 891 126 706 #\n",
    "  \n",
    "* [GitHub Organization](https://github.com/pratt-savi-810)\n",
    "\n",
    "* [Slack Organization](https://app.slack.com/client/T01068MA75X/C010J3Q2QET)\n",
    "\n",
    "* [Resources](https://github.com/pratt-savi-810/resources)"
   ]
  },
  {
   "cell_type": "markdown",
   "metadata": {
    "toc": true
   },
   "source": [
    "<h1>Table of Contents<span class=\"tocSkip\"></span></h1>\n",
    "<div class=\"toc\"><ul class=\"toc-item\"><li><span><a href=\"#Lesson-04\" data-toc-modified-id=\"Lesson-04-1\">Lesson 04</a></span></li><li><span><a href=\"#Exploratory-Data-Analysis-&amp;-Visualization\" data-toc-modified-id=\"Exploratory-Data-Analysis-&amp;-Visualization-2\">Exploratory Data Analysis &amp; Visualization</a></span></li><li><span><a href=\"#Class-Links\" data-toc-modified-id=\"Class-Links-3\">Class Links</a></span></li><li><span><a href=\"#Learning-Objectives\" data-toc-modified-id=\"Learning-Objectives-4\">Learning Objectives</a></span><ul class=\"toc-item\"><li><ul class=\"toc-item\"><li><span><a href=\"#Fork-and-Clone-this-Lesson-Repo\" data-toc-modified-id=\"Fork-and-Clone-this-Lesson-Repo-4.0.1\">Fork and Clone this Lesson Repo</a></span></li></ul></li></ul></li><li><span><a href=\"#Install-Python-Packages\" data-toc-modified-id=\"Install-Python-Packages-5\">Install Python Packages</a></span></li><li><span><a href=\"#Import-Libraries\" data-toc-modified-id=\"Import-Libraries-6\">Import Libraries</a></span></li><li><span><a href=\"#Pandas-Groupby-Aggregation\" data-toc-modified-id=\"Pandas-Groupby-Aggregation-7\">Pandas Groupby Aggregation</a></span><ul class=\"toc-item\"><li><ul class=\"toc-item\"><li><ul class=\"toc-item\"><li><span><a href=\"#Check-out-boro_df\" data-toc-modified-id=\"Check-out-boro_df-7.0.0.1\">Check out <code>boro_df</code></a></span></li></ul></li></ul></li></ul></li><li><span><a href=\"#Groupby\" data-toc-modified-id=\"Groupby-8\">Groupby</a></span><ul class=\"toc-item\"><li><ul class=\"toc-item\"><li><ul class=\"toc-item\"><li><span><a href=\"#Let's-first-try-summing-boro_population-across-the-column-Pandas-Series\" data-toc-modified-id=\"Let's-first-try-summing-boro_population-across-the-column-Pandas-Series-8.0.0.1\">Let's first try summing <code>boro_population</code> across the column Pandas Series</a></span></li><li><span><a href=\"#Now-let's-do-a-simple-Groupby-to-Aggregate-to-each-geog_region-Groupby\" data-toc-modified-id=\"Now-let's-do-a-simple-Groupby-to-Aggregate-to-each-geog_region-Groupby-8.0.0.2\">Now let's do a simple Groupby to Aggregate to each <code>geog_region</code> Groupby</a></span></li><li><span><a href=\"#We-can-also-look-at-other-aggegation-function-types-min(),-max()\" data-toc-modified-id=\"We-can-also-look-at-other-aggegation-function-types-min(),-max()-8.0.0.3\">We can also look at other aggegation function types <code>min()</code>, <code>max()</code></a></span></li></ul></li></ul></li></ul></li><li><span><a href=\"#Pandas-Merge-to-Join-DataFrames-on-Primary-Key\" data-toc-modified-id=\"Pandas-Merge-to-Join-DataFrames-on-Primary-Key-9\">Pandas Merge to Join DataFrames on Primary Key</a></span><ul class=\"toc-item\"><li><ul class=\"toc-item\"><li><ul class=\"toc-item\"><li><span><a href=\"#We've-looked-at-our-boro_df,-let's-check-out-mhhi_df\" data-toc-modified-id=\"We've-looked-at-our-boro_df,-let's-check-out-mhhi_df-9.0.0.1\">We've looked at our <code>boro_df</code>, let's check out <code>mhhi_df</code></a></span></li><li><span><a href=\"#(THREAD)-What-column-can-I-join-on-to-combine-these-two-variables?\" data-toc-modified-id=\"(THREAD)-What-column-can-I-join-on-to-combine-these-two-variables?-9.0.0.2\">(THREAD) What column can I join on to combine these two variables?</a></span></li><li><span><a href=\"#Now-we'll-leverage-Pandas-.merge()-to-combine-these-tables-on-common-id\" data-toc-modified-id=\"Now-we'll-leverage-Pandas-.merge()-to-combine-these-tables-on-common-id-9.0.0.3\">Now we'll leverage Pandas <code>.merge()</code> to combine these tables on common id</a></span></li><li><span><a href=\"#Let's-check-out-joined_df\" data-toc-modified-id=\"Let's-check-out-joined_df-9.0.0.4\">Let's check out <code>joined_df</code></a></span></li></ul></li></ul></li></ul></li><li><span><a href=\"#Plotting\" data-toc-modified-id=\"Plotting-10\">Plotting</a></span><ul class=\"toc-item\"><li><ul class=\"toc-item\"><li><span><a href=\"#Matplotlib\" data-toc-modified-id=\"Matplotlib-10.0.1\"><a href=\"https://matplotlib.org/\" target=\"_blank\">Matplotlib</a></a></span></li></ul></li><li><span><a href=\"#New-Libraries\" data-toc-modified-id=\"New-Libraries-10.1\">New Libraries</a></span><ul class=\"toc-item\"><li><span><a href=\"#NumPy\" data-toc-modified-id=\"NumPy-10.1.1\"><a href=\"https://numpy.org/\" target=\"_blank\">NumPy</a></a></span></li><li><span><a href=\"#Missingno\" data-toc-modified-id=\"Missingno-10.1.2\"><a href=\"https://github.com/ResidentMario/missingno\" target=\"_blank\">Missingno</a></a></span></li><li><span><a href=\"#Seaborn\" data-toc-modified-id=\"Seaborn-10.1.3\"><a href=\"https://seaborn.pydata.org/\" target=\"_blank\">Seaborn</a></a></span></li></ul></li><li><span><a href=\"#Import-the-New-Libraries\" data-toc-modified-id=\"Import-the-New-Libraries-10.2\">Import the New Libraries</a></span></li></ul></li><li><span><a href=\"#Load-our-Hospitals-Data\" data-toc-modified-id=\"Load-our-Hospitals-Data-11\">Load our Hospitals Data</a></span><ul class=\"toc-item\"><li><ul class=\"toc-item\"><li><ul class=\"toc-item\"><li><span><a href=\"#Read-our-hospitals-data-as-a-DataFrame\" data-toc-modified-id=\"Read-our-hospitals-data-as-a-DataFrame-11.0.0.1\">Read our hospitals data as a DataFrame</a></span></li><li><span><a href=\"#Show-the-first-3-rows-of-the-data\" data-toc-modified-id=\"Show-the-first-3-rows-of-the-data-11.0.0.2\">Show the first 3 rows of the data</a></span></li><li><span><a href=\"#Let's-see-the-DataFrame-.columns\" data-toc-modified-id=\"Let's-see-the-DataFrame-.columns-11.0.0.3\">Let's see the DataFrame <code>.columns</code></a></span></li><li><span><a href=\"#How-many-Rows-and-Columns-does-our-DataFrame-have?\" data-toc-modified-id=\"How-many-Rows-and-Columns-does-our-DataFrame-have?-11.0.0.4\">How many Rows and Columns does our DataFrame have?</a></span></li></ul></li></ul></li></ul></li><li><span><a href=\"#Plotting-Data-in-Python\" data-toc-modified-id=\"Plotting-Data-in-Python-12\">Plotting Data in Python</a></span><ul class=\"toc-item\"><li><ul class=\"toc-item\"><li><ul class=\"toc-item\"><li><span><a href=\"#Let's-take-a-deeper-dive-and-look-at-the-BEDS-data-column\" data-toc-modified-id=\"Let's-take-a-deeper-dive-and-look-at-the-BEDS-data-column-12.0.0.1\">Let's take a deeper dive and look at the BEDS data column</a></span></li><li><span><a href=\"#Let's-start-with-a-pandas-plot\" data-toc-modified-id=\"Let's-start-with-a-pandas-plot-12.0.0.2\">Let's start with a pandas plot</a></span></li><li><span><a href=\"#We-can-also-use-the-.hist()-function\" data-toc-modified-id=\"We-can-also-use-the-.hist()-function-12.0.0.3\">We can also use the <code>.hist()</code> function</a></span></li><li><span><a href=\"#Now-let's-say-I-want-to-remove-those-gridlines-to-make-it-exactly-the-same\" data-toc-modified-id=\"Now-let's-say-I-want-to-remove-those-gridlines-to-make-it-exactly-the-same-12.0.0.4\">Now let's say I want to remove those gridlines to make it exactly the same</a></span></li><li><span><a href=\"#I-can-hit-SHIFT-+-TAB-to-see-the-arguments-for-the-.hist(-)-function\" data-toc-modified-id=\"I-can-hit-SHIFT-+-TAB-to-see-the-arguments-for-the-.hist(-)-function-12.0.0.5\">I can hit SHIFT + TAB to see the arguments for the <code>.hist( )</code> function</a></span></li><li><span><a href=\"#Now-let's-try-to-change-the-color.\" data-toc-modified-id=\"Now-let's-try-to-change-the-color.-12.0.0.6\">Now let's try to change the color.</a></span></li></ul></li></ul></li></ul></li><li><span><a href=\"#Matplotlib-Colors\" data-toc-modified-id=\"Matplotlib-Colors-13\">Matplotlib Colors</a></span><ul class=\"toc-item\"><li><ul class=\"toc-item\"><li><ul class=\"toc-item\"><li><span><a href=\"#Try-with-a-different-color\" data-toc-modified-id=\"Try-with-a-different-color-13.0.0.1\">Try with a different color</a></span></li><li><span><a href=\"#We-can-also-set-the-column-after-rather-than-inferring-it-from-DataFrame-Series\" data-toc-modified-id=\"We-can-also-set-the-column-after-rather-than-inferring-it-from-DataFrame-Series-13.0.0.2\">We can also set the column after rather than inferring it from DataFrame Series</a></span></li><li><span><a href=\"#We-can-also-plot-two-Histograms-using-BEDS-and-LATITUDE-columns\" data-toc-modified-id=\"We-can-also-plot-two-Histograms-using-BEDS-and-LATITUDE-columns-13.0.0.3\">We can also plot two Histograms using <code>BEDS</code> and <code>LATITUDE</code> columns</a></span></li><li><span><a href=\"#And-increase-the-Figure-Size\" data-toc-modified-id=\"And-increase-the-Figure-Size-13.0.0.4\">And increase the Figure Size</a></span></li><li><span><a href=\"#We-can-plot-as-a-Scatterplot\" data-toc-modified-id=\"We-can-plot-as-a-Scatterplot-13.0.0.5\">We can plot as a Scatterplot</a></span></li><li><span><a href=\"#We-can-plot-a-Box-plot\" data-toc-modified-id=\"We-can-plot-a-Box-plot-13.0.0.6\">We can plot a Box plot</a></span></li><li><span><a href=\"#Let's-look-at-our-BEDS-column-again-as-.plot.box()\" data-toc-modified-id=\"Let's-look-at-our-BEDS-column-again-as-.plot.box()-13.0.0.7\">Let's look at our BEDS column again as <code>.plot.box()</code></a></span></li><li><span><a href=\"#The--999-values-should-be-re-classified-as-missing-or-null\" data-toc-modified-id=\"The--999-values-should-be-re-classified-as-missing-or-null-13.0.0.8\">The -999 values should be re-classified as missing or null</a></span></li><li><span><a href=\"#Creating-new-Columns-in-Pandas-DataFrame\" data-toc-modified-id=\"Creating-new-Columns-in-Pandas-DataFrame-13.0.0.9\">Creating new Columns in Pandas DataFrame</a></span></li><li><span><a href=\"#Set-everyone's-eye-color-to-Brown\" data-toc-modified-id=\"Set-everyone's-eye-color-to-Brown-13.0.0.10\">Set everyone's eye color to Brown</a></span></li><li><span><a href=\"#Set-Tom's-Eye-Color-to-Green\" data-toc-modified-id=\"Set-Tom's-Eye-Color-to-Green-13.0.0.11\">Set Tom's Eye Color to Green</a></span></li><li><span><a href=\"#Set-Nick's-Eye-Color-to-Blue\" data-toc-modified-id=\"Set-Nick's-Eye-Color-to-Blue-13.0.0.12\">Set Nick's Eye Color to Blue</a></span></li><li><span><a href=\"#We-can-access-our-items-perhaps-a-little-easier-if-we-set_index()-for-our-DataFrame\" data-toc-modified-id=\"We-can-access-our-items-perhaps-a-little-easier-if-we-set_index()-for-our-DataFrame-13.0.0.13\">We can access our items perhaps a little easier if we <code>set_index()</code> for our DataFrame</a></span></li><li><span><a href=\"#Now-let's-set-Tom's-Eye-Color-to-Hazel\" data-toc-modified-id=\"Now-let's-set-Tom's-Eye-Color-to-Hazel-13.0.0.14\">Now let's set Tom's Eye Color to Hazel</a></span></li><li><span><a href=\"#Now-Back-to-our-Hospitals-DataFrame\" data-toc-modified-id=\"Now-Back-to-our-Hospitals-DataFrame-13.0.0.15\">Now Back to our Hospitals DataFrame</a></span></li><li><span><a href=\"#Let's-see-for-which-rows-BEDS-are--999\" data-toc-modified-id=\"Let's-see-for-which-rows-BEDS-are--999-13.0.0.16\">Let's see for which rows BEDS are -999</a></span></li><li><span><a href=\"#We-can-now-see-the-rows-where-BEDS-==--999\" data-toc-modified-id=\"We-can-now-see-the-rows-where-BEDS-==--999-13.0.0.17\">We can now see the rows where BEDS == -999</a></span></li><li><span><a href=\"#Okay-now-let's-use-that-to-write-a-numpy.where()-conditional-Statement\" data-toc-modified-id=\"Okay-now-let's-use-that-to-write-a-numpy.where()-conditional-Statement-13.0.0.18\">Okay now let's use that to write a <code>numpy.where()</code> conditional Statement</a></span></li><li><span><a href=\"#We'll-replace--999-with-the-np.nan-missing-data-type.\" data-toc-modified-id=\"We'll-replace--999-with-the-np.nan-missing-data-type.-13.0.0.19\">We'll replace -999 with the <code>np.nan</code> missing data type.</a></span></li><li><span><a href=\"#Check-out-BEDS_newcol\" data-toc-modified-id=\"Check-out-BEDS_newcol-13.0.0.20\">Check out <code>BEDS_newcol</code></a></span></li><li><span><a href=\"#Now-let's-look-at-a-.hist()-(histogram)-of-our-BEDS_newcol\" data-toc-modified-id=\"Now-let's-look-at-a-.hist()-(histogram)-of-our-BEDS_newcol-13.0.0.21\">Now let's look at a <code>.hist()</code> (histogram) of our BEDS_newcol</a></span></li><li><span><a href=\"#We-can-see-which-columns-isnull()\" data-toc-modified-id=\"We-can-see-which-columns-isnull()-13.0.0.22\">We can see which columns <code>isnull()</code></a></span></li><li><span><a href=\"#And-we-can-sum-to-see-how-many-are-null.\" data-toc-modified-id=\"And-we-can-sum-to-see-how-many-are-null.-13.0.0.23\">And we can sum to see how many are null.</a></span></li></ul></li></ul></li></ul></li><li><span><a href=\"#Seaborn-PairPlot\" data-toc-modified-id=\"Seaborn-PairPlot-14\">Seaborn PairPlot</a></span><ul class=\"toc-item\"><li><ul class=\"toc-item\"><li><ul class=\"toc-item\"><li><span><a href=\"#First-we'll-load-in-a-new-dataset-from-Seabron-called-&quot;iris&quot;\" data-toc-modified-id=\"First-we'll-load-in-a-new-dataset-from-Seabron-called-&quot;iris&quot;-14.0.0.1\">First we'll load in a new dataset from Seabron called <code>\"iris\"</code></a></span></li><li><span><a href=\"#Check-out-the-iris-DataFrame\" data-toc-modified-id=\"Check-out-the-iris-DataFrame-14.0.0.2\">Check out the <code>iris</code> DataFrame</a></span></li><li><span><a href=\"#Now-let's-use-the-.pairplot()-to-show-Distributions-along-with-Scatterplots\" data-toc-modified-id=\"Now-let's-use-the-.pairplot()-to-show-Distributions-along-with-Scatterplots-14.0.0.3\">Now let's use the <code>.pairplot()</code> to show Distributions along with Scatterplots</a></span></li><li><span><a href=\"#Now-let's-set-a-Column-as-a-Seperate-Class\" data-toc-modified-id=\"Now-let's-set-a-Column-as-a-Seperate-Class-14.0.0.4\">Now let's set a Column as a Seperate Class</a></span></li><li><span><a href=\"#Seaborn-.scatterplot()\" data-toc-modified-id=\"Seaborn-.scatterplot()-14.0.0.5\">Seaborn <code>.scatterplot()</code></a></span></li></ul></li></ul></li></ul></li><li><span><a href=\"#Missing-Values-(Nulls)-with-Missingno\" data-toc-modified-id=\"Missing-Values-(Nulls)-with-Missingno-15\">Missing Values (Nulls) with Missingno</a></span><ul class=\"toc-item\"><li><ul class=\"toc-item\"><li><ul class=\"toc-item\"><li><span><a href=\"#Read-in-the-.csv-as-missing_df.\" data-toc-modified-id=\"Read-in-the-.csv-as-missing_df.-15.0.0.1\">Read in the <code>.csv</code> as <code>missing_df</code>.</a></span></li><li><span><a href=\"#Use-msno.matrix()-to-visualize-our-Missing-Data\" data-toc-modified-id=\"Use-msno.matrix()-to-visualize-our-Missing-Data-15.0.0.2\">Use <code>msno.matrix()</code> to visualize our Missing Data</a></span></li></ul></li></ul></li></ul></li><li><span><a href=\"#End-Lesson-04\" data-toc-modified-id=\"End-Lesson-04-16\">End Lesson 04</a></span></li></ul></div>"
   ]
  },
  {
   "cell_type": "markdown",
   "metadata": {},
   "source": [
    "# Learning Objectives\n",
    "\n",
    "* Pandas Groupby Aggregation\n",
    "* Pandas Merge / Join Tables\n",
    "* Learn to plot data with the Pandas Plotting Methods\n",
    "* Plot data using Seaborn\n",
    "* Explore missing data with MissingNo\n",
    "* Learn a bunch of Pandas features along the way. \n",
    "\n",
    "\n",
    "### Fork and Clone this Lesson Repo\n",
    "\n",
    "https://github.com/pratt-savi-810/pratt-savi-810-2020-03-lesson_04\n"
   ]
  },
  {
   "cell_type": "markdown",
   "metadata": {},
   "source": [
    "# Install Python Packages\n",
    "\n",
    "```\n",
    "(geospatial) $ pip install seaborn\n",
    "\n",
    "(geospatial) $ pip install missingno\n",
    "\n",
    "```"
   ]
  },
  {
   "cell_type": "markdown",
   "metadata": {},
   "source": [
    "# Import Libraries\n",
    "\n",
    "Let's `import` some of the libraries we've already used. "
   ]
  },
  {
   "cell_type": "code",
   "execution_count": 12,
   "metadata": {},
   "outputs": [],
   "source": [
    "from IPython.display import IFrame\n",
    "import pandas as pd\n",
    "import matplotlib.pyplot as plt"
   ]
  },
  {
   "cell_type": "markdown",
   "metadata": {},
   "source": [
    "# Pandas Groupby Aggregation"
   ]
  },
  {
   "cell_type": "code",
   "execution_count": 13,
   "metadata": {},
   "outputs": [],
   "source": [
    "boro_data = {\n",
    "    \"Manhattan\": {\n",
    "        \"COUNTYFIPS\": '36061',\n",
    "        \"boro_code\": '1',\n",
    "        \"boro_population\": 1_628_701,\n",
    "        \"boro_name\": \"Manhattan\",\n",
    "        \"geog_region\": 'ny harbor',\n",
    "    },\n",
    "    \"Bronx\": {\n",
    "        \"COUNTYFIPS\": '36005',\n",
    "        \"boro_code\": '2',\n",
    "        \"boro_population\": 1_432_132,\n",
    "        \"boro_name\": \"Bronx\",\n",
    "        \"geog_region\": 'upstate'\n",
    "    },\n",
    "    \"Brooklyn\": {\n",
    "        \"COUNTYFIPS\": '36047',\n",
    "        \"boro_code\": '3',\n",
    "        \"boro_population\": 2_582_830,\n",
    "        \"boro_name\": \"Brooklyn\",\n",
    "        \"geog_region\": 'long island'\n",
    "    },\n",
    "    \"Queens\": {\n",
    "        \"COUNTYFIPS\": '36081',\n",
    "        \"boro_code\": '4',\n",
    "        \"boro_population\": 2_278_906,\n",
    "        \"boro_name\": \"Queens\",\n",
    "        \"geog_region\": 'long island'\n",
    "    },\n",
    "    \"Staten Island\": {\n",
    "        \"COUNTYFIPS\": '36085',\n",
    "        \"boro_code\": '5',\n",
    "        \"boro_population\": 476_179,\n",
    "        \"boro_name\": \"Staten Island\",\n",
    "        \"geog_region\": 'ny harbor'\n",
    "    },\n",
    "}\n",
    "\n",
    "mhhi = {\n",
    "    \"Manhattan\": {\n",
    "        \"boro_code\": '1',\n",
    "        \"mhhi\": 79_781,\n",
    "    },\n",
    "    \"Bronx\": {\n",
    "        \"boro_code\": '2',\n",
    "        \"mhhi\": 36_593,\n",
    "    },\n",
    "    \"Brooklyn\": {\n",
    "        \"boro_code\": '3',\n",
    "        \"mhhi\": 52_782,\n",
    "    },\n",
    "    \"Queens\": {\n",
    "        \"boro_code\": '4',\n",
    "        \"mhhi\": 62_008,\n",
    "    },\n",
    "    \"Staten Island\": { \n",
    "        \"boro_code\": '5',\n",
    "        \"mhhi\": 76_244,\n",
    "    },\n",
    "}  # 2013-2017 acs\n",
    "\n",
    "boro_df = pd.DataFrame(boro_data).T\n",
    "boro_df.reset_index(inplace=True)\n",
    "boro_df.drop(columns=['index'], inplace=True)\n",
    "\n",
    "mhhi_df = pd.DataFrame(mhhi).T\n",
    "\n",
    "mhhi_df.reset_index(inplace=True)\n",
    "mhhi_df['median_household_income'] = mhhi_df['mhhi']\n",
    "mhhi_df.drop(columns=['index', 'mhhi'], inplace=True)\n"
   ]
  },
  {
   "cell_type": "markdown",
   "metadata": {},
   "source": [
    "#### Check out `boro_df`"
   ]
  },
  {
   "cell_type": "code",
   "execution_count": 14,
   "metadata": {},
   "outputs": [
    {
     "data": {
      "text/html": [
       "<div>\n",
       "<style scoped>\n",
       "    .dataframe tbody tr th:only-of-type {\n",
       "        vertical-align: middle;\n",
       "    }\n",
       "\n",
       "    .dataframe tbody tr th {\n",
       "        vertical-align: top;\n",
       "    }\n",
       "\n",
       "    .dataframe thead th {\n",
       "        text-align: right;\n",
       "    }\n",
       "</style>\n",
       "<table border=\"1\" class=\"dataframe\">\n",
       "  <thead>\n",
       "    <tr style=\"text-align: right;\">\n",
       "      <th></th>\n",
       "      <th>COUNTYFIPS</th>\n",
       "      <th>boro_code</th>\n",
       "      <th>boro_population</th>\n",
       "      <th>boro_name</th>\n",
       "      <th>geog_region</th>\n",
       "    </tr>\n",
       "  </thead>\n",
       "  <tbody>\n",
       "    <tr>\n",
       "      <td>0</td>\n",
       "      <td>36061</td>\n",
       "      <td>1</td>\n",
       "      <td>1628701</td>\n",
       "      <td>Manhattan</td>\n",
       "      <td>ny harbor</td>\n",
       "    </tr>\n",
       "    <tr>\n",
       "      <td>1</td>\n",
       "      <td>36005</td>\n",
       "      <td>2</td>\n",
       "      <td>1432132</td>\n",
       "      <td>Bronx</td>\n",
       "      <td>upstate</td>\n",
       "    </tr>\n",
       "    <tr>\n",
       "      <td>2</td>\n",
       "      <td>36047</td>\n",
       "      <td>3</td>\n",
       "      <td>2582830</td>\n",
       "      <td>Brooklyn</td>\n",
       "      <td>long island</td>\n",
       "    </tr>\n",
       "    <tr>\n",
       "      <td>3</td>\n",
       "      <td>36081</td>\n",
       "      <td>4</td>\n",
       "      <td>2278906</td>\n",
       "      <td>Queens</td>\n",
       "      <td>long island</td>\n",
       "    </tr>\n",
       "    <tr>\n",
       "      <td>4</td>\n",
       "      <td>36085</td>\n",
       "      <td>5</td>\n",
       "      <td>476179</td>\n",
       "      <td>Staten Island</td>\n",
       "      <td>ny harbor</td>\n",
       "    </tr>\n",
       "  </tbody>\n",
       "</table>\n",
       "</div>"
      ],
      "text/plain": [
       "  COUNTYFIPS boro_code boro_population      boro_name  geog_region\n",
       "0      36061         1         1628701      Manhattan    ny harbor\n",
       "1      36005         2         1432132          Bronx      upstate\n",
       "2      36047         3         2582830       Brooklyn  long island\n",
       "3      36081         4         2278906         Queens  long island\n",
       "4      36085         5          476179  Staten Island    ny harbor"
      ]
     },
     "execution_count": 14,
     "metadata": {},
     "output_type": "execute_result"
    }
   ],
   "source": [
    "boro_df"
   ]
  },
  {
   "cell_type": "markdown",
   "metadata": {},
   "source": [
    "# Groupby\n",
    "\n",
    "> A groupby operation involves some combination of splitting the object, applying a function, and combining the results. This can be used to group large amounts of data and compute operations on these groups. Source: https://pandas.pydata.org/pandas-docs/stable/reference/api/pandas.DataFrame.groupby.html\n",
    "\n",
    "![groupby](https://i.stack.imgur.com/sgCn1.jpg)\n",
    "_Source: [https://stackoverflow.com/questions/35500425/using-pandas-groupby-just-to-drop-repeated-items](https://stackoverflow.com/questions/35500425/using-pandas-groupby-just-to-drop-repeated-items)_\n",
    "\n",
    "\n",
    "#### Let's first try summing `boro_population` across the column Pandas Series"
   ]
  },
  {
   "cell_type": "code",
   "execution_count": 32,
   "metadata": {},
   "outputs": [
    {
     "data": {
      "text/plain": [
       "8398748"
      ]
     },
     "execution_count": 32,
     "metadata": {},
     "output_type": "execute_result"
    }
   ],
   "source": [
    "boro_df['boro_population'].sum()"
   ]
  },
  {
   "cell_type": "markdown",
   "metadata": {},
   "source": [
    "#### Now let's do a simple Groupby to Aggregate to each `geog_region` Groupby"
   ]
  },
  {
   "cell_type": "code",
   "execution_count": 37,
   "metadata": {},
   "outputs": [
    {
     "data": {
      "text/html": [
       "<div>\n",
       "<style scoped>\n",
       "    .dataframe tbody tr th:only-of-type {\n",
       "        vertical-align: middle;\n",
       "    }\n",
       "\n",
       "    .dataframe tbody tr th {\n",
       "        vertical-align: top;\n",
       "    }\n",
       "\n",
       "    .dataframe thead th {\n",
       "        text-align: right;\n",
       "    }\n",
       "</style>\n",
       "<table border=\"1\" class=\"dataframe\">\n",
       "  <thead>\n",
       "    <tr style=\"text-align: right;\">\n",
       "      <th></th>\n",
       "      <th>boro_population</th>\n",
       "    </tr>\n",
       "    <tr>\n",
       "      <th>geog_region</th>\n",
       "      <th></th>\n",
       "    </tr>\n",
       "  </thead>\n",
       "  <tbody>\n",
       "    <tr>\n",
       "      <td>long island</td>\n",
       "      <td>4861736</td>\n",
       "    </tr>\n",
       "    <tr>\n",
       "      <td>ny harbor</td>\n",
       "      <td>2104880</td>\n",
       "    </tr>\n",
       "    <tr>\n",
       "      <td>upstate</td>\n",
       "      <td>1432132</td>\n",
       "    </tr>\n",
       "  </tbody>\n",
       "</table>\n",
       "</div>"
      ],
      "text/plain": [
       "             boro_population\n",
       "geog_region                 \n",
       "long island          4861736\n",
       "ny harbor            2104880\n",
       "upstate              1432132"
      ]
     },
     "execution_count": 37,
     "metadata": {},
     "output_type": "execute_result"
    }
   ],
   "source": [
    "boro_df[['geog_region', 'boro_population']].groupby(\n",
    "    ['geog_region']\n",
    ").sum()"
   ]
  },
  {
   "cell_type": "markdown",
   "metadata": {},
   "source": [
    "#### We can also look at other aggegation function types `min()`, `max()`"
   ]
  },
  {
   "cell_type": "code",
   "execution_count": 39,
   "metadata": {},
   "outputs": [
    {
     "data": {
      "text/html": [
       "<div>\n",
       "<style scoped>\n",
       "    .dataframe tbody tr th:only-of-type {\n",
       "        vertical-align: middle;\n",
       "    }\n",
       "\n",
       "    .dataframe tbody tr th {\n",
       "        vertical-align: top;\n",
       "    }\n",
       "\n",
       "    .dataframe thead th {\n",
       "        text-align: right;\n",
       "    }\n",
       "</style>\n",
       "<table border=\"1\" class=\"dataframe\">\n",
       "  <thead>\n",
       "    <tr style=\"text-align: right;\">\n",
       "      <th></th>\n",
       "      <th>boro_population</th>\n",
       "    </tr>\n",
       "    <tr>\n",
       "      <th>geog_region</th>\n",
       "      <th></th>\n",
       "    </tr>\n",
       "  </thead>\n",
       "  <tbody>\n",
       "    <tr>\n",
       "      <td>long island</td>\n",
       "      <td>2278906</td>\n",
       "    </tr>\n",
       "    <tr>\n",
       "      <td>ny harbor</td>\n",
       "      <td>476179</td>\n",
       "    </tr>\n",
       "    <tr>\n",
       "      <td>upstate</td>\n",
       "      <td>1432132</td>\n",
       "    </tr>\n",
       "  </tbody>\n",
       "</table>\n",
       "</div>"
      ],
      "text/plain": [
       "             boro_population\n",
       "geog_region                 \n",
       "long island          2278906\n",
       "ny harbor             476179\n",
       "upstate              1432132"
      ]
     },
     "execution_count": 39,
     "metadata": {},
     "output_type": "execute_result"
    }
   ],
   "source": [
    "boro_df[['geog_region', 'boro_population']].groupby(\n",
    "    ['geog_region']\n",
    ").min()"
   ]
  },
  {
   "cell_type": "code",
   "execution_count": 40,
   "metadata": {},
   "outputs": [
    {
     "data": {
      "text/html": [
       "<div>\n",
       "<style scoped>\n",
       "    .dataframe tbody tr th:only-of-type {\n",
       "        vertical-align: middle;\n",
       "    }\n",
       "\n",
       "    .dataframe tbody tr th {\n",
       "        vertical-align: top;\n",
       "    }\n",
       "\n",
       "    .dataframe thead th {\n",
       "        text-align: right;\n",
       "    }\n",
       "</style>\n",
       "<table border=\"1\" class=\"dataframe\">\n",
       "  <thead>\n",
       "    <tr style=\"text-align: right;\">\n",
       "      <th></th>\n",
       "      <th>boro_population</th>\n",
       "    </tr>\n",
       "    <tr>\n",
       "      <th>geog_region</th>\n",
       "      <th></th>\n",
       "    </tr>\n",
       "  </thead>\n",
       "  <tbody>\n",
       "    <tr>\n",
       "      <td>long island</td>\n",
       "      <td>2582830</td>\n",
       "    </tr>\n",
       "    <tr>\n",
       "      <td>ny harbor</td>\n",
       "      <td>1628701</td>\n",
       "    </tr>\n",
       "    <tr>\n",
       "      <td>upstate</td>\n",
       "      <td>1432132</td>\n",
       "    </tr>\n",
       "  </tbody>\n",
       "</table>\n",
       "</div>"
      ],
      "text/plain": [
       "             boro_population\n",
       "geog_region                 \n",
       "long island          2582830\n",
       "ny harbor            1628701\n",
       "upstate              1432132"
      ]
     },
     "execution_count": 40,
     "metadata": {},
     "output_type": "execute_result"
    }
   ],
   "source": [
    "boro_df[['geog_region', 'boro_population']].groupby(\n",
    "    ['geog_region']\n",
    ").max()"
   ]
  },
  {
   "cell_type": "markdown",
   "metadata": {},
   "source": [
    "# Pandas Merge to Join DataFrames on Primary Key\n",
    "\n",
    "![merge](https://miro.medium.com/max/7360/1*-I_1qa5TIiB5eNYxnodfAA.png)\n",
    "_Source: [https://towardsdatascience.com/python-pandas-dataframe-join-merge-and-concatenate-84985c29ef78](https://towardsdatascience.com/python-pandas-dataframe-join-merge-and-concatenate-84985c29ef78)_\n",
    "\n",
    "#### We've looked at our `boro_df`, let's check out `mhhi_df`"
   ]
  },
  {
   "cell_type": "code",
   "execution_count": 42,
   "metadata": {},
   "outputs": [
    {
     "data": {
      "text/html": [
       "<div>\n",
       "<style scoped>\n",
       "    .dataframe tbody tr th:only-of-type {\n",
       "        vertical-align: middle;\n",
       "    }\n",
       "\n",
       "    .dataframe tbody tr th {\n",
       "        vertical-align: top;\n",
       "    }\n",
       "\n",
       "    .dataframe thead th {\n",
       "        text-align: right;\n",
       "    }\n",
       "</style>\n",
       "<table border=\"1\" class=\"dataframe\">\n",
       "  <thead>\n",
       "    <tr style=\"text-align: right;\">\n",
       "      <th></th>\n",
       "      <th>boro_code</th>\n",
       "      <th>median_household_income</th>\n",
       "    </tr>\n",
       "  </thead>\n",
       "  <tbody>\n",
       "    <tr>\n",
       "      <td>0</td>\n",
       "      <td>1</td>\n",
       "      <td>79781</td>\n",
       "    </tr>\n",
       "    <tr>\n",
       "      <td>1</td>\n",
       "      <td>2</td>\n",
       "      <td>36593</td>\n",
       "    </tr>\n",
       "    <tr>\n",
       "      <td>2</td>\n",
       "      <td>3</td>\n",
       "      <td>52782</td>\n",
       "    </tr>\n",
       "    <tr>\n",
       "      <td>3</td>\n",
       "      <td>4</td>\n",
       "      <td>62008</td>\n",
       "    </tr>\n",
       "    <tr>\n",
       "      <td>4</td>\n",
       "      <td>5</td>\n",
       "      <td>76244</td>\n",
       "    </tr>\n",
       "  </tbody>\n",
       "</table>\n",
       "</div>"
      ],
      "text/plain": [
       "  boro_code median_household_income\n",
       "0         1                   79781\n",
       "1         2                   36593\n",
       "2         3                   52782\n",
       "3         4                   62008\n",
       "4         5                   76244"
      ]
     },
     "execution_count": 42,
     "metadata": {},
     "output_type": "execute_result"
    }
   ],
   "source": [
    "mhhi_df"
   ]
  },
  {
   "cell_type": "code",
   "execution_count": 43,
   "metadata": {},
   "outputs": [
    {
     "data": {
      "text/html": [
       "<div>\n",
       "<style scoped>\n",
       "    .dataframe tbody tr th:only-of-type {\n",
       "        vertical-align: middle;\n",
       "    }\n",
       "\n",
       "    .dataframe tbody tr th {\n",
       "        vertical-align: top;\n",
       "    }\n",
       "\n",
       "    .dataframe thead th {\n",
       "        text-align: right;\n",
       "    }\n",
       "</style>\n",
       "<table border=\"1\" class=\"dataframe\">\n",
       "  <thead>\n",
       "    <tr style=\"text-align: right;\">\n",
       "      <th></th>\n",
       "      <th>COUNTYFIPS</th>\n",
       "      <th>boro_code</th>\n",
       "      <th>boro_population</th>\n",
       "      <th>boro_name</th>\n",
       "      <th>geog_region</th>\n",
       "    </tr>\n",
       "  </thead>\n",
       "  <tbody>\n",
       "    <tr>\n",
       "      <td>0</td>\n",
       "      <td>36061</td>\n",
       "      <td>1</td>\n",
       "      <td>1628701</td>\n",
       "      <td>Manhattan</td>\n",
       "      <td>ny harbor</td>\n",
       "    </tr>\n",
       "    <tr>\n",
       "      <td>1</td>\n",
       "      <td>36005</td>\n",
       "      <td>2</td>\n",
       "      <td>1432132</td>\n",
       "      <td>Bronx</td>\n",
       "      <td>upstate</td>\n",
       "    </tr>\n",
       "    <tr>\n",
       "      <td>2</td>\n",
       "      <td>36047</td>\n",
       "      <td>3</td>\n",
       "      <td>2582830</td>\n",
       "      <td>Brooklyn</td>\n",
       "      <td>long island</td>\n",
       "    </tr>\n",
       "    <tr>\n",
       "      <td>3</td>\n",
       "      <td>36081</td>\n",
       "      <td>4</td>\n",
       "      <td>2278906</td>\n",
       "      <td>Queens</td>\n",
       "      <td>long island</td>\n",
       "    </tr>\n",
       "    <tr>\n",
       "      <td>4</td>\n",
       "      <td>36085</td>\n",
       "      <td>5</td>\n",
       "      <td>476179</td>\n",
       "      <td>Staten Island</td>\n",
       "      <td>ny harbor</td>\n",
       "    </tr>\n",
       "  </tbody>\n",
       "</table>\n",
       "</div>"
      ],
      "text/plain": [
       "  COUNTYFIPS boro_code boro_population      boro_name  geog_region\n",
       "0      36061         1         1628701      Manhattan    ny harbor\n",
       "1      36005         2         1432132          Bronx      upstate\n",
       "2      36047         3         2582830       Brooklyn  long island\n",
       "3      36081         4         2278906         Queens  long island\n",
       "4      36085         5          476179  Staten Island    ny harbor"
      ]
     },
     "execution_count": 43,
     "metadata": {},
     "output_type": "execute_result"
    }
   ],
   "source": [
    "boro_df"
   ]
  },
  {
   "cell_type": "markdown",
   "metadata": {},
   "source": [
    "#### (THREAD) What column can I join on to combine these two variables?\n",
    "\n",
    "\n",
    "<details>\n",
    "<summary>Answer:</summary>\n",
    "    <code>boro_code</code>\n",
    "</details>"
   ]
  },
  {
   "cell_type": "markdown",
   "metadata": {},
   "source": [
    "#### Now we'll leverage Pandas `.merge()` to combine these tables on common id"
   ]
  },
  {
   "cell_type": "code",
   "execution_count": 44,
   "metadata": {},
   "outputs": [],
   "source": [
    "joined_df = pd.merge(\n",
    "    left=boro_df, \n",
    "    right=mhhi_df,\n",
    "    how='left',  # you can do a 'right', 'inner', 'outer'\n",
    "    on='boro_code',\n",
    ")"
   ]
  },
  {
   "cell_type": "markdown",
   "metadata": {},
   "source": [
    "#### Let's check out `joined_df`"
   ]
  },
  {
   "cell_type": "code",
   "execution_count": 45,
   "metadata": {},
   "outputs": [
    {
     "data": {
      "text/html": [
       "<div>\n",
       "<style scoped>\n",
       "    .dataframe tbody tr th:only-of-type {\n",
       "        vertical-align: middle;\n",
       "    }\n",
       "\n",
       "    .dataframe tbody tr th {\n",
       "        vertical-align: top;\n",
       "    }\n",
       "\n",
       "    .dataframe thead th {\n",
       "        text-align: right;\n",
       "    }\n",
       "</style>\n",
       "<table border=\"1\" class=\"dataframe\">\n",
       "  <thead>\n",
       "    <tr style=\"text-align: right;\">\n",
       "      <th></th>\n",
       "      <th>COUNTYFIPS</th>\n",
       "      <th>boro_code</th>\n",
       "      <th>boro_population</th>\n",
       "      <th>boro_name</th>\n",
       "      <th>geog_region</th>\n",
       "      <th>median_household_income</th>\n",
       "    </tr>\n",
       "  </thead>\n",
       "  <tbody>\n",
       "    <tr>\n",
       "      <td>0</td>\n",
       "      <td>36061</td>\n",
       "      <td>1</td>\n",
       "      <td>1628701</td>\n",
       "      <td>Manhattan</td>\n",
       "      <td>ny harbor</td>\n",
       "      <td>79781</td>\n",
       "    </tr>\n",
       "    <tr>\n",
       "      <td>1</td>\n",
       "      <td>36005</td>\n",
       "      <td>2</td>\n",
       "      <td>1432132</td>\n",
       "      <td>Bronx</td>\n",
       "      <td>upstate</td>\n",
       "      <td>36593</td>\n",
       "    </tr>\n",
       "    <tr>\n",
       "      <td>2</td>\n",
       "      <td>36047</td>\n",
       "      <td>3</td>\n",
       "      <td>2582830</td>\n",
       "      <td>Brooklyn</td>\n",
       "      <td>long island</td>\n",
       "      <td>52782</td>\n",
       "    </tr>\n",
       "    <tr>\n",
       "      <td>3</td>\n",
       "      <td>36081</td>\n",
       "      <td>4</td>\n",
       "      <td>2278906</td>\n",
       "      <td>Queens</td>\n",
       "      <td>long island</td>\n",
       "      <td>62008</td>\n",
       "    </tr>\n",
       "    <tr>\n",
       "      <td>4</td>\n",
       "      <td>36085</td>\n",
       "      <td>5</td>\n",
       "      <td>476179</td>\n",
       "      <td>Staten Island</td>\n",
       "      <td>ny harbor</td>\n",
       "      <td>76244</td>\n",
       "    </tr>\n",
       "  </tbody>\n",
       "</table>\n",
       "</div>"
      ],
      "text/plain": [
       "  COUNTYFIPS boro_code boro_population      boro_name  geog_region  \\\n",
       "0      36061         1         1628701      Manhattan    ny harbor   \n",
       "1      36005         2         1432132          Bronx      upstate   \n",
       "2      36047         3         2582830       Brooklyn  long island   \n",
       "3      36081         4         2278906         Queens  long island   \n",
       "4      36085         5          476179  Staten Island    ny harbor   \n",
       "\n",
       "  median_household_income  \n",
       "0                   79781  \n",
       "1                   36593  \n",
       "2                   52782  \n",
       "3                   62008  \n",
       "4                   76244  "
      ]
     },
     "execution_count": 45,
     "metadata": {},
     "output_type": "execute_result"
    }
   ],
   "source": [
    "joined_df"
   ]
  },
  {
   "cell_type": "markdown",
   "metadata": {},
   "source": [
    "# Plotting\n",
    "\n",
    "### [Matplotlib](https://matplotlib.org/)\n",
    "\n",
    "> Matplotlib is a comprehensive library for creating static, animated, and interactive visualizations in Python. Source: https://matplotlib.org/\n",
    "\n",
    "![matplotlib](https://matplotlib.org/_images/sphx_glr_subplot_001.png)\n",
    "\n",
    "\n",
    "## New Libraries\n",
    "\n",
    "### [NumPy](https://numpy.org/)\n",
    "\n",
    "> NumPy is the fundamental package for scientific computing with Python. It contains among other things:\n",
    "* a powerful N-dimensional array object\n",
    "* sophisticated (broadcasting) functions\n",
    "* tools for integrating C/C++ and Fortran code\n",
    "* useful linear algebra, Fourier transform, and random number capabilities\n",
    "\n",
    "> Besides its obvious scientific uses, NumPy can also be used as an efficient multi-dimensional container of generic data. Arbitrary data-types can be defined. This allows NumPy to seamlessly and speedily integrate with a wide variety of databases. Source: https://numpy.org/\n",
    "\n",
    "### [Missingno](https://github.com/ResidentMario/missingno)\n",
    "\n",
    "> Messy datasets? Missing values? missingno provides a small toolset of flexible and easy-to-use missing data visualizations and utilities that allows you to get a quick visual summary of the completeness (or lack thereof) of your dataset. Just pip install missingno to get started. Source: https://github.com/ResidentMario/missingno\n",
    "\n",
    "![missingo](https://camo.githubusercontent.com/d59ba9e511fd42dd078b8c8829d3de3f6a7e1585/68747470733a2f2f692e696d6775722e636f6d2f675775584b45722e706e67)\n",
    "\n",
    "### [Seaborn](https://seaborn.pydata.org/)\n",
    "\n",
    "> Seaborn is a Python data visualization library based on matplotlib. It provides a high-level interface for drawing attractive and informative statistical graphics. Source: https://seaborn.pydata.org/\n",
    "\n",
    "![seaborn](https://seaborn.pydata.org/_static/errorband_lineplots_thumb.png)"
   ]
  },
  {
   "cell_type": "code",
   "execution_count": 5,
   "metadata": {},
   "outputs": [
    {
     "data": {
      "text/html": [
       "\n",
       "        <iframe\n",
       "            width=\"700\"\n",
       "            height=\"400\"\n",
       "            src=\"https://seaborn.pydata.org/examples/index.html\"\n",
       "            frameborder=\"0\"\n",
       "            allowfullscreen\n",
       "        ></iframe>\n",
       "        "
      ],
      "text/plain": [
       "<IPython.lib.display.IFrame at 0x7fd8115f0910>"
      ]
     },
     "execution_count": 5,
     "metadata": {},
     "output_type": "execute_result"
    }
   ],
   "source": [
    "IFrame(src='https://seaborn.pydata.org/examples/index.html', width=700, height=400)"
   ]
  },
  {
   "cell_type": "markdown",
   "metadata": {},
   "source": [
    "## Import the New Libraries"
   ]
  },
  {
   "cell_type": "code",
   "execution_count": null,
   "metadata": {},
   "outputs": [],
   "source": [
    "import numpy as np\n",
    "import missingno as msno\n",
    "import seaborn as sns"
   ]
  },
  {
   "cell_type": "markdown",
   "metadata": {},
   "source": [
    "# Load our Hospitals Data"
   ]
  },
  {
   "cell_type": "code",
   "execution_count": 46,
   "metadata": {},
   "outputs": [],
   "source": [
    "csv_url = 'https://opendata.arcgis.com/datasets/6ac5e325468c4cb9b905f1728d6fbf0f_0.csv?outSR=%7B%22latestWkid%22%3A3857%2C%22wkid%22%3A102100%7D'"
   ]
  },
  {
   "cell_type": "markdown",
   "metadata": {},
   "source": [
    "#### Read our hospitals data as a DataFrame\n",
    "Read our hospitals data as a DataFrame using Pandas (imported as `pd`)\n"
   ]
  },
  {
   "cell_type": "code",
   "execution_count": 48,
   "metadata": {},
   "outputs": [],
   "source": [
    "df = pd.read_csv(csv_url)"
   ]
  },
  {
   "cell_type": "markdown",
   "metadata": {},
   "source": [
    "#### Show the first 3 rows of the data\n",
    "Show the first 3 rows of the data using `.head()`"
   ]
  },
  {
   "cell_type": "code",
   "execution_count": 49,
   "metadata": {},
   "outputs": [
    {
     "data": {
      "text/html": [
       "<div>\n",
       "<style scoped>\n",
       "    .dataframe tbody tr th:only-of-type {\n",
       "        vertical-align: middle;\n",
       "    }\n",
       "\n",
       "    .dataframe tbody tr th {\n",
       "        vertical-align: top;\n",
       "    }\n",
       "\n",
       "    .dataframe thead th {\n",
       "        text-align: right;\n",
       "    }\n",
       "</style>\n",
       "<table border=\"1\" class=\"dataframe\">\n",
       "  <thead>\n",
       "    <tr style=\"text-align: right;\">\n",
       "      <th></th>\n",
       "      <th>X</th>\n",
       "      <th>Y</th>\n",
       "      <th>OBJECTID</th>\n",
       "      <th>ID</th>\n",
       "      <th>NAME</th>\n",
       "      <th>ADDRESS</th>\n",
       "      <th>CITY</th>\n",
       "      <th>STATE</th>\n",
       "      <th>ZIP</th>\n",
       "      <th>ZIP4</th>\n",
       "      <th>...</th>\n",
       "      <th>VAL_DATE</th>\n",
       "      <th>WEBSITE</th>\n",
       "      <th>STATE_ID</th>\n",
       "      <th>ALT_NAME</th>\n",
       "      <th>ST_FIPS</th>\n",
       "      <th>OWNER</th>\n",
       "      <th>TTL_STAFF</th>\n",
       "      <th>BEDS</th>\n",
       "      <th>TRAUMA</th>\n",
       "      <th>HELIPAD</th>\n",
       "    </tr>\n",
       "  </thead>\n",
       "  <tbody>\n",
       "    <tr>\n",
       "      <td>0</td>\n",
       "      <td>-80.069978</td>\n",
       "      <td>32.975799</td>\n",
       "      <td>7001</td>\n",
       "      <td>3829406</td>\n",
       "      <td>HEALTHSOUTH REHABILITATION HOSPITAL OF CHARLESTON</td>\n",
       "      <td>9181 MEDCOM ST</td>\n",
       "      <td>NORTH CHARLESTON</td>\n",
       "      <td>SC</td>\n",
       "      <td>29406</td>\n",
       "      <td>NOT AVAILABLE</td>\n",
       "      <td>...</td>\n",
       "      <td>2013-10-03T00:00:00.000Z</td>\n",
       "      <td>http://www.healthsouthcharleston.com</td>\n",
       "      <td>38784738</td>\n",
       "      <td>NOT AVAILABLE</td>\n",
       "      <td>45</td>\n",
       "      <td>PROPRIETARY</td>\n",
       "      <td>-999</td>\n",
       "      <td>46</td>\n",
       "      <td>NOT AVAILABLE</td>\n",
       "      <td>N</td>\n",
       "    </tr>\n",
       "    <tr>\n",
       "      <td>1</td>\n",
       "      <td>-81.942460</td>\n",
       "      <td>34.989657</td>\n",
       "      <td>7002</td>\n",
       "      <td>11029303</td>\n",
       "      <td>SPARTANBURG REHABILITATION INSTITUTE</td>\n",
       "      <td>160 HAROLD FLEMING CT</td>\n",
       "      <td>SPARTANBURG</td>\n",
       "      <td>SC</td>\n",
       "      <td>29303</td>\n",
       "      <td>4226</td>\n",
       "      <td>...</td>\n",
       "      <td>2016-10-27T00:00:00.000Z</td>\n",
       "      <td>http://sri.ernesthealth.com/</td>\n",
       "      <td>NOT AVAILABLE</td>\n",
       "      <td>NOT AVAILABLE</td>\n",
       "      <td>45</td>\n",
       "      <td>PROPRIETARY</td>\n",
       "      <td>-999</td>\n",
       "      <td>40</td>\n",
       "      <td>NOT AVAILABLE</td>\n",
       "      <td>N</td>\n",
       "    </tr>\n",
       "    <tr>\n",
       "      <td>2</td>\n",
       "      <td>-79.753122</td>\n",
       "      <td>34.161420</td>\n",
       "      <td>7003</td>\n",
       "      <td>2929505</td>\n",
       "      <td>WOMEN'S CENTER OF CAROLINAS HOSPITAL SYSTEM</td>\n",
       "      <td>1590 FREEDOM BLVD</td>\n",
       "      <td>FLORENCE</td>\n",
       "      <td>SC</td>\n",
       "      <td>29505</td>\n",
       "      <td>NOT AVAILABLE</td>\n",
       "      <td>...</td>\n",
       "      <td>2014-03-12T00:00:00.000Z</td>\n",
       "      <td>http://www.carolinashospital.com</td>\n",
       "      <td>38784564</td>\n",
       "      <td>NOT AVAILABLE</td>\n",
       "      <td>45</td>\n",
       "      <td>PROPRIETARY</td>\n",
       "      <td>-999</td>\n",
       "      <td>20</td>\n",
       "      <td>NOT AVAILABLE</td>\n",
       "      <td>Y</td>\n",
       "    </tr>\n",
       "  </tbody>\n",
       "</table>\n",
       "<p>3 rows × 34 columns</p>\n",
       "</div>"
      ],
      "text/plain": [
       "           X          Y  OBJECTID        ID  \\\n",
       "0 -80.069978  32.975799      7001   3829406   \n",
       "1 -81.942460  34.989657      7002  11029303   \n",
       "2 -79.753122  34.161420      7003   2929505   \n",
       "\n",
       "                                                NAME                ADDRESS  \\\n",
       "0  HEALTHSOUTH REHABILITATION HOSPITAL OF CHARLESTON         9181 MEDCOM ST   \n",
       "1               SPARTANBURG REHABILITATION INSTITUTE  160 HAROLD FLEMING CT   \n",
       "2        WOMEN'S CENTER OF CAROLINAS HOSPITAL SYSTEM      1590 FREEDOM BLVD   \n",
       "\n",
       "               CITY STATE    ZIP           ZIP4  ...  \\\n",
       "0  NORTH CHARLESTON    SC  29406  NOT AVAILABLE  ...   \n",
       "1       SPARTANBURG    SC  29303           4226  ...   \n",
       "2          FLORENCE    SC  29505  NOT AVAILABLE  ...   \n",
       "\n",
       "                   VAL_DATE                               WEBSITE  \\\n",
       "0  2013-10-03T00:00:00.000Z  http://www.healthsouthcharleston.com   \n",
       "1  2016-10-27T00:00:00.000Z          http://sri.ernesthealth.com/   \n",
       "2  2014-03-12T00:00:00.000Z      http://www.carolinashospital.com   \n",
       "\n",
       "        STATE_ID       ALT_NAME ST_FIPS        OWNER TTL_STAFF  BEDS  \\\n",
       "0       38784738  NOT AVAILABLE      45  PROPRIETARY      -999    46   \n",
       "1  NOT AVAILABLE  NOT AVAILABLE      45  PROPRIETARY      -999    40   \n",
       "2       38784564  NOT AVAILABLE      45  PROPRIETARY      -999    20   \n",
       "\n",
       "          TRAUMA  HELIPAD  \n",
       "0  NOT AVAILABLE        N  \n",
       "1  NOT AVAILABLE        N  \n",
       "2  NOT AVAILABLE        Y  \n",
       "\n",
       "[3 rows x 34 columns]"
      ]
     },
     "execution_count": 49,
     "metadata": {},
     "output_type": "execute_result"
    }
   ],
   "source": [
    "df.head(3)"
   ]
  },
  {
   "cell_type": "markdown",
   "metadata": {},
   "source": [
    "#### Let's see the DataFrame `.columns`"
   ]
  },
  {
   "cell_type": "code",
   "execution_count": 53,
   "metadata": {},
   "outputs": [
    {
     "data": {
      "text/plain": [
       "Index(['X', 'Y', 'OBJECTID', 'ID', 'NAME', 'ADDRESS', 'CITY', 'STATE', 'ZIP',\n",
       "       'ZIP4', 'TELEPHONE', 'TYPE', 'STATUS', 'POPULATION', 'COUNTY',\n",
       "       'COUNTYFIPS', 'COUNTRY', 'LATITUDE', 'LONGITUDE', 'NAICS_CODE',\n",
       "       'NAICS_DESC', 'SOURCE', 'SOURCEDATE', 'VAL_METHOD', 'VAL_DATE',\n",
       "       'WEBSITE', 'STATE_ID', 'ALT_NAME', 'ST_FIPS', 'OWNER', 'TTL_STAFF',\n",
       "       'BEDS', 'TRAUMA', 'HELIPAD'],\n",
       "      dtype='object')"
      ]
     },
     "execution_count": 53,
     "metadata": {},
     "output_type": "execute_result"
    }
   ],
   "source": [
    "df.columns"
   ]
  },
  {
   "cell_type": "markdown",
   "metadata": {},
   "source": [
    "#### How many Rows and Columns does our DataFrame have? \n",
    "What is the shape of the data (rows and colums)?\n",
    "\n",
    "Use `.shape`\n"
   ]
  },
  {
   "cell_type": "code",
   "execution_count": 56,
   "metadata": {},
   "outputs": [
    {
     "data": {
      "text/plain": [
       "(7581, 34)"
      ]
     },
     "execution_count": 56,
     "metadata": {},
     "output_type": "execute_result"
    }
   ],
   "source": [
    "df.shape"
   ]
  },
  {
   "cell_type": "markdown",
   "metadata": {},
   "source": [
    "\n",
    "\n",
    "# Plotting Data in Python\n",
    "\n",
    "* [**Matplotlib**](https://matplotlib.org/) is our Python plotting workhorse. Many of the other plotting libraries are built around or extended versions of Matplotlib. \n",
    "\n",
    "* [**Pandas**](https://pandas.pydata.org/pandas-docs/stable/user_guide/visualization.html) has it's own [plotting methods](https://pandas.pydata.org/pandas-docs/stable/user_guide/visualization.html) that are quick and easy implementations of `matplotlib`-like functions. \n",
    "\n",
    "* [**Seaborn**](https://seaborn.pydata.org/index.html) is based on Matplotlib and makes it easier to generate more detailed and involved plots that may have nicer styling than Matplotlib out-of-the-box. Sometimes its more complex to change and update the details of these plotting functions however. \n",
    "\n",
    "#### Let's take a deeper dive and look at the BEDS data column\n",
    "\n",
    "First, let's generate a [Histogram](https://en.wikipedia.org/wiki/Histogram) to see the distribution of our Beds data. \n",
    "\n",
    "#### Let's start with a pandas plot"
   ]
  },
  {
   "cell_type": "code",
   "execution_count": 62,
   "metadata": {},
   "outputs": [
    {
     "data": {
      "image/png": "[encoded data removed]",
      "text/plain": [
       "<Figure size 432x288 with 1 Axes>"
      ]
     },
     "metadata": {
      "needs_background": "light"
     },
     "output_type": "display_data"
    }
   ],
   "source": [
    "df['BEDS'].plot(kind='hist');\n",
    "\n",
    "# Series   df['col_name'], \n",
    "# DataFrame df[['col_name', 'col2']],    df[['col_name']] \n",
    "\n",
    "# the semicolon (;) removes the printout to the cell of the in-memory python object"
   ]
  },
  {
   "cell_type": "markdown",
   "metadata": {},
   "source": [
    "#### We can also use the `.hist()` function\n",
    "\n",
    "Which is basically the same as the `.plot(kind='hist)"
   ]
  },
  {
   "cell_type": "code",
   "execution_count": 63,
   "metadata": {},
   "outputs": [
    {
     "data": {
      "image/png": "[encoded data removed]",
      "text/plain": [
       "<Figure size 432x288 with 1 Axes>"
      ]
     },
     "metadata": {
      "needs_background": "light"
     },
     "output_type": "display_data"
    }
   ],
   "source": [
    "df['BEDS'].hist();"
   ]
  },
  {
   "cell_type": "markdown",
   "metadata": {},
   "source": [
    "#### Now let's say I want to remove those gridlines to make it exactly the same"
   ]
  },
  {
   "cell_type": "markdown",
   "metadata": {},
   "source": [
    "#### I can hit SHIFT + TAB to see the arguments for the `.hist( )` function\n",
    "\n",
    "![pandas hist plot](https://raw.githubusercontent.com/pratt-savi-810/images/master/pandas_plot_hist_parameters.png)"
   ]
  },
  {
   "cell_type": "code",
   "execution_count": 65,
   "metadata": {},
   "outputs": [
    {
     "data": {
      "image/png": "[encoded data removed]",
      "text/plain": [
       "<Figure size 432x288 with 1 Axes>"
      ]
     },
     "metadata": {
      "needs_background": "light"
     },
     "output_type": "display_data"
    }
   ],
   "source": [
    "df['BEDS'].hist(grid=False);"
   ]
  },
  {
   "cell_type": "markdown",
   "metadata": {},
   "source": [
    "#### Now let's try to change the color. "
   ]
  },
  {
   "cell_type": "code",
   "execution_count": 67,
   "metadata": {},
   "outputs": [
    {
     "data": {
      "image/png": "[encoded data removed]",
      "text/plain": [
       "<Figure size 432x288 with 1 Axes>"
      ]
     },
     "metadata": {
      "needs_background": "light"
     },
     "output_type": "display_data"
    }
   ],
   "source": [
    "df['BEDS'].hist(color='r');"
   ]
  },
  {
   "cell_type": "markdown",
   "metadata": {},
   "source": [
    "# Matplotlib Colors \n",
    "\n",
    "![base colors](https://matplotlib.org/3.1.0/_images/sphx_glr_named_colors_001.png)\n",
    "\n",
    "![tableau palette](https://matplotlib.org/3.1.0/_images/sphx_glr_named_colors_002.png)\n",
    "\n",
    "![css colors](https://matplotlib.org/3.1.0/_images/sphx_glr_named_colors_003.png)\n",
    "\n",
    "\n",
    "#### Try with a different color "
   ]
  },
  {
   "cell_type": "code",
   "execution_count": 69,
   "metadata": {},
   "outputs": [
    {
     "data": {
      "image/png": "[encoded data removed]",
      "text/plain": [
       "<Figure size 432x288 with 1 Axes>"
      ]
     },
     "metadata": {
      "needs_background": "light"
     },
     "output_type": "display_data"
    }
   ],
   "source": [
    "df['BEDS'].hist(color='lightsteelblue');"
   ]
  },
  {
   "cell_type": "markdown",
   "metadata": {},
   "source": [
    "#### We can also set the column after rather than inferring it from DataFrame Series"
   ]
  },
  {
   "cell_type": "code",
   "execution_count": 70,
   "metadata": {},
   "outputs": [
    {
     "data": {
      "image/png": "[encoded data removed]",
      "text/plain": [
       "<Figure size 432x288 with 1 Axes>"
      ]
     },
     "metadata": {
      "needs_background": "light"
     },
     "output_type": "display_data"
    }
   ],
   "source": [
    "df.hist(column=['BEDS']);"
   ]
  },
  {
   "cell_type": "markdown",
   "metadata": {},
   "source": [
    "#### We can also plot two Histograms using `BEDS` and `LATITUDE` columns"
   ]
  },
  {
   "cell_type": "code",
   "execution_count": 71,
   "metadata": {},
   "outputs": [
    {
     "data": {
      "image/png": "[encoded data removed]",
      "text/plain": [
       "<Figure size 432x288 with 2 Axes>"
      ]
     },
     "metadata": {
      "needs_background": "light"
     },
     "output_type": "display_data"
    }
   ],
   "source": [
    "df.hist(column=['BEDS', 'LATITUDE']);"
   ]
  },
  {
   "cell_type": "markdown",
   "metadata": {},
   "source": [
    "#### And increase the Figure Size\n"
   ]
  },
  {
   "cell_type": "code",
   "execution_count": 73,
   "metadata": {},
   "outputs": [
    {
     "data": {
      "image/png": "[encoded data removed]",
      "text/plain": [
       "<Figure size 864x576 with 2 Axes>"
      ]
     },
     "metadata": {
      "needs_background": "light"
     },
     "output_type": "display_data"
    }
   ],
   "source": [
    "# Figure size (width, height)\n",
    "\n",
    "df.hist(column=['BEDS', 'LATITUDE'], figsize=(12, 8));"
   ]
  },
  {
   "cell_type": "code",
   "execution_count": 76,
   "metadata": {},
   "outputs": [
    {
     "name": "stderr",
     "output_type": "stream",
     "text": [
      "No handles with labels found to put in legend.\n"
     ]
    },
    {
     "data": {
      "image/png": "[encoded data removed]",
      "text/plain": [
       "<Figure size 432x288 with 1 Axes>"
      ]
     },
     "metadata": {
      "needs_background": "light"
     },
     "output_type": "display_data"
    }
   ],
   "source": [
    "plt.hist(df['BEDS'], alpha=1)\n",
    "plt.hist(df['LATITUDE'], alpha=1)\n",
    "plt.legend(loc='upper right')\n",
    "plt.show()"
   ]
  },
  {
   "cell_type": "markdown",
   "metadata": {},
   "source": [
    "#### We can plot as a Scatterplot"
   ]
  },
  {
   "cell_type": "code",
   "execution_count": 77,
   "metadata": {},
   "outputs": [
    {
     "data": {
      "image/png": "[encoded data removed]",
      "text/plain": [
       "<Figure size 432x288 with 1 Axes>"
      ]
     },
     "metadata": {
      "needs_background": "light"
     },
     "output_type": "display_data"
    }
   ],
   "source": [
    "df.plot.scatter(x='LONGITUDE', y='LATITUDE');"
   ]
  },
  {
   "cell_type": "markdown",
   "metadata": {},
   "source": [
    "#### We can plot a Box plot \n",
    "\n",
    "> Visualize the distribution of values within each column. Source: https://pandas.pydata.org/pandas-docs/stable/user_guide/visualization.html#box-plots\n",
    "\n",
    "![boxplot example](https://pandas.pydata.org/pandas-docs/stable/_images/box_plot_new.png)"
   ]
  },
  {
   "cell_type": "code",
   "execution_count": 79,
   "metadata": {},
   "outputs": [
    {
     "data": {
      "image/png": "[encoded data removed]",
      "text/plain": [
       "<Figure size 432x288 with 1 Axes>"
      ]
     },
     "metadata": {
      "needs_background": "light"
     },
     "output_type": "display_data"
    }
   ],
   "source": [
    "df[['LONGITUDE', 'LATITUDE']].plot.box();"
   ]
  },
  {
   "cell_type": "markdown",
   "metadata": {},
   "source": [
    "#### Let's look at our BEDS column again as `.plot.box()`"
   ]
  },
  {
   "cell_type": "code",
   "execution_count": 80,
   "metadata": {},
   "outputs": [
    {
     "data": {
      "image/png": "[encoded data removed]",
      "text/plain": [
       "<Figure size 432x288 with 1 Axes>"
      ]
     },
     "metadata": {
      "needs_background": "light"
     },
     "output_type": "display_data"
    }
   ],
   "source": [
    "df['BEDS'].plot.box();"
   ]
  },
  {
   "cell_type": "markdown",
   "metadata": {},
   "source": [
    "#### The -999 values should be re-classified as missing or null\n",
    "\n",
    "But first let's look at **creating new columns** in a Pandas DataFrame\n",
    "\n",
    "#### Creating new Columns in Pandas DataFrame"
   ]
  },
  {
   "cell_type": "code",
   "execution_count": 101,
   "metadata": {},
   "outputs": [
    {
     "data": {
      "text/html": [
       "<div>\n",
       "<style scoped>\n",
       "    .dataframe tbody tr th:only-of-type {\n",
       "        vertical-align: middle;\n",
       "    }\n",
       "\n",
       "    .dataframe tbody tr th {\n",
       "        vertical-align: top;\n",
       "    }\n",
       "\n",
       "    .dataframe thead th {\n",
       "        text-align: right;\n",
       "    }\n",
       "</style>\n",
       "<table border=\"1\" class=\"dataframe\">\n",
       "  <thead>\n",
       "    <tr style=\"text-align: right;\">\n",
       "      <th></th>\n",
       "      <th>Name</th>\n",
       "      <th>Age</th>\n",
       "    </tr>\n",
       "  </thead>\n",
       "  <tbody>\n",
       "    <tr>\n",
       "      <td>0</td>\n",
       "      <td>Tom</td>\n",
       "      <td>20</td>\n",
       "    </tr>\n",
       "    <tr>\n",
       "      <td>1</td>\n",
       "      <td>nick</td>\n",
       "      <td>21</td>\n",
       "    </tr>\n",
       "    <tr>\n",
       "      <td>2</td>\n",
       "      <td>krish</td>\n",
       "      <td>19</td>\n",
       "    </tr>\n",
       "    <tr>\n",
       "      <td>3</td>\n",
       "      <td>jack</td>\n",
       "      <td>18</td>\n",
       "    </tr>\n",
       "  </tbody>\n",
       "</table>\n",
       "</div>"
      ],
      "text/plain": [
       "    Name  Age\n",
       "0    Tom   20\n",
       "1   nick   21\n",
       "2  krish   19\n",
       "3   jack   18"
      ]
     },
     "execution_count": 101,
     "metadata": {},
     "output_type": "execute_result"
    }
   ],
   "source": [
    "# Source: https://www.geeksforgeeks.org/different-ways-to-create-pandas-dataframe/\n",
    "data = {'Name':['Tom', 'nick', 'krish', 'jack'], 'Age':[20, 21, 19, 18]} \n",
    "  \n",
    "s = pd.DataFrame(data) \n",
    "  \n",
    "s"
   ]
  },
  {
   "cell_type": "markdown",
   "metadata": {},
   "source": [
    "#### Set everyone's eye color to Brown"
   ]
  },
  {
   "cell_type": "code",
   "execution_count": 83,
   "metadata": {},
   "outputs": [],
   "source": [
    "s['Eye Color'] = 'Brown'"
   ]
  },
  {
   "cell_type": "code",
   "execution_count": 84,
   "metadata": {},
   "outputs": [
    {
     "data": {
      "text/html": [
       "<div>\n",
       "<style scoped>\n",
       "    .dataframe tbody tr th:only-of-type {\n",
       "        vertical-align: middle;\n",
       "    }\n",
       "\n",
       "    .dataframe tbody tr th {\n",
       "        vertical-align: top;\n",
       "    }\n",
       "\n",
       "    .dataframe thead th {\n",
       "        text-align: right;\n",
       "    }\n",
       "</style>\n",
       "<table border=\"1\" class=\"dataframe\">\n",
       "  <thead>\n",
       "    <tr style=\"text-align: right;\">\n",
       "      <th></th>\n",
       "      <th>Name</th>\n",
       "      <th>Age</th>\n",
       "      <th>Eye Color</th>\n",
       "    </tr>\n",
       "  </thead>\n",
       "  <tbody>\n",
       "    <tr>\n",
       "      <td>0</td>\n",
       "      <td>Tom</td>\n",
       "      <td>20</td>\n",
       "      <td>Brown</td>\n",
       "    </tr>\n",
       "    <tr>\n",
       "      <td>1</td>\n",
       "      <td>nick</td>\n",
       "      <td>21</td>\n",
       "      <td>Brown</td>\n",
       "    </tr>\n",
       "    <tr>\n",
       "      <td>2</td>\n",
       "      <td>krish</td>\n",
       "      <td>19</td>\n",
       "      <td>Brown</td>\n",
       "    </tr>\n",
       "    <tr>\n",
       "      <td>3</td>\n",
       "      <td>jack</td>\n",
       "      <td>18</td>\n",
       "      <td>Brown</td>\n",
       "    </tr>\n",
       "  </tbody>\n",
       "</table>\n",
       "</div>"
      ],
      "text/plain": [
       "    Name  Age Eye Color\n",
       "0    Tom   20     Brown\n",
       "1   nick   21     Brown\n",
       "2  krish   19     Brown\n",
       "3   jack   18     Brown"
      ]
     },
     "execution_count": 84,
     "metadata": {},
     "output_type": "execute_result"
    }
   ],
   "source": [
    "s"
   ]
  },
  {
   "cell_type": "markdown",
   "metadata": {},
   "source": [
    "#### Set Tom's Eye Color to Green"
   ]
  },
  {
   "cell_type": "code",
   "execution_count": 85,
   "metadata": {},
   "outputs": [],
   "source": [
    "s.at[0, 'Eye Color'] = 'Green'"
   ]
  },
  {
   "cell_type": "code",
   "execution_count": 86,
   "metadata": {},
   "outputs": [
    {
     "data": {
      "text/html": [
       "<div>\n",
       "<style scoped>\n",
       "    .dataframe tbody tr th:only-of-type {\n",
       "        vertical-align: middle;\n",
       "    }\n",
       "\n",
       "    .dataframe tbody tr th {\n",
       "        vertical-align: top;\n",
       "    }\n",
       "\n",
       "    .dataframe thead th {\n",
       "        text-align: right;\n",
       "    }\n",
       "</style>\n",
       "<table border=\"1\" class=\"dataframe\">\n",
       "  <thead>\n",
       "    <tr style=\"text-align: right;\">\n",
       "      <th></th>\n",
       "      <th>Name</th>\n",
       "      <th>Age</th>\n",
       "      <th>Eye Color</th>\n",
       "    </tr>\n",
       "  </thead>\n",
       "  <tbody>\n",
       "    <tr>\n",
       "      <td>0</td>\n",
       "      <td>Tom</td>\n",
       "      <td>20</td>\n",
       "      <td>Green</td>\n",
       "    </tr>\n",
       "    <tr>\n",
       "      <td>1</td>\n",
       "      <td>nick</td>\n",
       "      <td>21</td>\n",
       "      <td>Brown</td>\n",
       "    </tr>\n",
       "    <tr>\n",
       "      <td>2</td>\n",
       "      <td>krish</td>\n",
       "      <td>19</td>\n",
       "      <td>Brown</td>\n",
       "    </tr>\n",
       "    <tr>\n",
       "      <td>3</td>\n",
       "      <td>jack</td>\n",
       "      <td>18</td>\n",
       "      <td>Brown</td>\n",
       "    </tr>\n",
       "  </tbody>\n",
       "</table>\n",
       "</div>"
      ],
      "text/plain": [
       "    Name  Age Eye Color\n",
       "0    Tom   20     Green\n",
       "1   nick   21     Brown\n",
       "2  krish   19     Brown\n",
       "3   jack   18     Brown"
      ]
     },
     "execution_count": 86,
     "metadata": {},
     "output_type": "execute_result"
    }
   ],
   "source": [
    "s"
   ]
  },
  {
   "cell_type": "markdown",
   "metadata": {},
   "source": [
    "#### Set Nick's Eye Color to Blue"
   ]
  },
  {
   "cell_type": "code",
   "execution_count": 87,
   "metadata": {},
   "outputs": [],
   "source": [
    "s.at[1, 'Eye Color'] = 'Blue'"
   ]
  },
  {
   "cell_type": "code",
   "execution_count": 88,
   "metadata": {},
   "outputs": [
    {
     "data": {
      "text/html": [
       "<div>\n",
       "<style scoped>\n",
       "    .dataframe tbody tr th:only-of-type {\n",
       "        vertical-align: middle;\n",
       "    }\n",
       "\n",
       "    .dataframe tbody tr th {\n",
       "        vertical-align: top;\n",
       "    }\n",
       "\n",
       "    .dataframe thead th {\n",
       "        text-align: right;\n",
       "    }\n",
       "</style>\n",
       "<table border=\"1\" class=\"dataframe\">\n",
       "  <thead>\n",
       "    <tr style=\"text-align: right;\">\n",
       "      <th></th>\n",
       "      <th>Name</th>\n",
       "      <th>Age</th>\n",
       "      <th>Eye Color</th>\n",
       "    </tr>\n",
       "  </thead>\n",
       "  <tbody>\n",
       "    <tr>\n",
       "      <td>0</td>\n",
       "      <td>Tom</td>\n",
       "      <td>20</td>\n",
       "      <td>Green</td>\n",
       "    </tr>\n",
       "    <tr>\n",
       "      <td>1</td>\n",
       "      <td>nick</td>\n",
       "      <td>21</td>\n",
       "      <td>Blue</td>\n",
       "    </tr>\n",
       "    <tr>\n",
       "      <td>2</td>\n",
       "      <td>krish</td>\n",
       "      <td>19</td>\n",
       "      <td>Brown</td>\n",
       "    </tr>\n",
       "    <tr>\n",
       "      <td>3</td>\n",
       "      <td>jack</td>\n",
       "      <td>18</td>\n",
       "      <td>Brown</td>\n",
       "    </tr>\n",
       "  </tbody>\n",
       "</table>\n",
       "</div>"
      ],
      "text/plain": [
       "    Name  Age Eye Color\n",
       "0    Tom   20     Green\n",
       "1   nick   21      Blue\n",
       "2  krish   19     Brown\n",
       "3   jack   18     Brown"
      ]
     },
     "execution_count": 88,
     "metadata": {},
     "output_type": "execute_result"
    }
   ],
   "source": [
    "s"
   ]
  },
  {
   "cell_type": "markdown",
   "metadata": {},
   "source": [
    "#### We can access our items perhaps a little easier if we `set_index()` for our DataFrame"
   ]
  },
  {
   "cell_type": "code",
   "execution_count": 104,
   "metadata": {},
   "outputs": [],
   "source": [
    "s.set_index('Name', inplace=True)"
   ]
  },
  {
   "cell_type": "code",
   "execution_count": 110,
   "metadata": {},
   "outputs": [],
   "source": [
    "s.sort_values('Age', inplace=True)"
   ]
  },
  {
   "cell_type": "code",
   "execution_count": 111,
   "metadata": {},
   "outputs": [
    {
     "data": {
      "text/html": [
       "<div>\n",
       "<style scoped>\n",
       "    .dataframe tbody tr th:only-of-type {\n",
       "        vertical-align: middle;\n",
       "    }\n",
       "\n",
       "    .dataframe tbody tr th {\n",
       "        vertical-align: top;\n",
       "    }\n",
       "\n",
       "    .dataframe thead th {\n",
       "        text-align: right;\n",
       "    }\n",
       "</style>\n",
       "<table border=\"1\" class=\"dataframe\">\n",
       "  <thead>\n",
       "    <tr style=\"text-align: right;\">\n",
       "      <th></th>\n",
       "      <th>Age</th>\n",
       "    </tr>\n",
       "    <tr>\n",
       "      <th>Name</th>\n",
       "      <th></th>\n",
       "    </tr>\n",
       "  </thead>\n",
       "  <tbody>\n",
       "    <tr>\n",
       "      <td>jack</td>\n",
       "      <td>18</td>\n",
       "    </tr>\n",
       "    <tr>\n",
       "      <td>krish</td>\n",
       "      <td>19</td>\n",
       "    </tr>\n",
       "    <tr>\n",
       "      <td>Tom</td>\n",
       "      <td>20</td>\n",
       "    </tr>\n",
       "    <tr>\n",
       "      <td>nick</td>\n",
       "      <td>21</td>\n",
       "    </tr>\n",
       "  </tbody>\n",
       "</table>\n",
       "</div>"
      ],
      "text/plain": [
       "       Age\n",
       "Name      \n",
       "jack    18\n",
       "krish   19\n",
       "Tom     20\n",
       "nick    21"
      ]
     },
     "execution_count": 111,
     "metadata": {},
     "output_type": "execute_result"
    }
   ],
   "source": [
    "s"
   ]
  },
  {
   "cell_type": "markdown",
   "metadata": {},
   "source": [
    "#### Now let's set Tom's Eye Color to Hazel"
   ]
  },
  {
   "cell_type": "code",
   "execution_count": 99,
   "metadata": {},
   "outputs": [],
   "source": [
    "s.at['Tom', 'Eye Color'] = 'Hazel'"
   ]
  },
  {
   "cell_type": "code",
   "execution_count": 100,
   "metadata": {},
   "outputs": [
    {
     "data": {
      "text/html": [
       "<div>\n",
       "<style scoped>\n",
       "    .dataframe tbody tr th:only-of-type {\n",
       "        vertical-align: middle;\n",
       "    }\n",
       "\n",
       "    .dataframe tbody tr th {\n",
       "        vertical-align: top;\n",
       "    }\n",
       "\n",
       "    .dataframe thead th {\n",
       "        text-align: right;\n",
       "    }\n",
       "</style>\n",
       "<table border=\"1\" class=\"dataframe\">\n",
       "  <thead>\n",
       "    <tr style=\"text-align: right;\">\n",
       "      <th></th>\n",
       "      <th>Age</th>\n",
       "      <th>Eye Color</th>\n",
       "    </tr>\n",
       "    <tr>\n",
       "      <th>Name</th>\n",
       "      <th></th>\n",
       "      <th></th>\n",
       "    </tr>\n",
       "  </thead>\n",
       "  <tbody>\n",
       "    <tr>\n",
       "      <td>Tom</td>\n",
       "      <td>20</td>\n",
       "      <td>Hazel</td>\n",
       "    </tr>\n",
       "    <tr>\n",
       "      <td>nick</td>\n",
       "      <td>21</td>\n",
       "      <td>Blue</td>\n",
       "    </tr>\n",
       "    <tr>\n",
       "      <td>krish</td>\n",
       "      <td>19</td>\n",
       "      <td>Brown</td>\n",
       "    </tr>\n",
       "    <tr>\n",
       "      <td>jack</td>\n",
       "      <td>18</td>\n",
       "      <td>Brown</td>\n",
       "    </tr>\n",
       "  </tbody>\n",
       "</table>\n",
       "</div>"
      ],
      "text/plain": [
       "       Age Eye Color\n",
       "Name                \n",
       "Tom     20     Hazel\n",
       "nick    21      Blue\n",
       "krish   19     Brown\n",
       "jack    18     Brown"
      ]
     },
     "execution_count": 100,
     "metadata": {},
     "output_type": "execute_result"
    }
   ],
   "source": [
    "s"
   ]
  },
  {
   "cell_type": "markdown",
   "metadata": {},
   "source": [
    "#### Now Back to our Hospitals DataFrame\n",
    "\n",
    "We need to setup a condition where we want to reclassify the -999 values in BEDS column to missing so we can more accurately plot the data. \n",
    "\n",
    "#### Let's see for which rows BEDS are -999"
   ]
  },
  {
   "cell_type": "code",
   "execution_count": 112,
   "metadata": {},
   "outputs": [
    {
     "data": {
      "text/plain": [
       "0       False\n",
       "1       False\n",
       "2       False\n",
       "3       False\n",
       "4       False\n",
       "        ...  \n",
       "7576    False\n",
       "7577    False\n",
       "7578    False\n",
       "7579    False\n",
       "7580    False\n",
       "Name: BEDS, Length: 7581, dtype: bool"
      ]
     },
     "execution_count": 112,
     "metadata": {},
     "output_type": "execute_result"
    }
   ],
   "source": [
    "df['BEDS'] == -999"
   ]
  },
  {
   "cell_type": "markdown",
   "metadata": {},
   "source": [
    "#### We can now see the rows where BEDS == -999"
   ]
  },
  {
   "cell_type": "code",
   "execution_count": 113,
   "metadata": {},
   "outputs": [
    {
     "data": {
      "text/html": [
       "<div>\n",
       "<style scoped>\n",
       "    .dataframe tbody tr th:only-of-type {\n",
       "        vertical-align: middle;\n",
       "    }\n",
       "\n",
       "    .dataframe tbody tr th {\n",
       "        vertical-align: top;\n",
       "    }\n",
       "\n",
       "    .dataframe thead th {\n",
       "        text-align: right;\n",
       "    }\n",
       "</style>\n",
       "<table border=\"1\" class=\"dataframe\">\n",
       "  <thead>\n",
       "    <tr style=\"text-align: right;\">\n",
       "      <th></th>\n",
       "      <th>X</th>\n",
       "      <th>Y</th>\n",
       "      <th>OBJECTID</th>\n",
       "      <th>ID</th>\n",
       "      <th>NAME</th>\n",
       "      <th>ADDRESS</th>\n",
       "      <th>CITY</th>\n",
       "      <th>STATE</th>\n",
       "      <th>ZIP</th>\n",
       "      <th>ZIP4</th>\n",
       "      <th>...</th>\n",
       "      <th>VAL_DATE</th>\n",
       "      <th>WEBSITE</th>\n",
       "      <th>STATE_ID</th>\n",
       "      <th>ALT_NAME</th>\n",
       "      <th>ST_FIPS</th>\n",
       "      <th>OWNER</th>\n",
       "      <th>TTL_STAFF</th>\n",
       "      <th>BEDS</th>\n",
       "      <th>TRAUMA</th>\n",
       "      <th>HELIPAD</th>\n",
       "    </tr>\n",
       "  </thead>\n",
       "  <tbody>\n",
       "    <tr>\n",
       "      <td>7</td>\n",
       "      <td>-122.669889</td>\n",
       "      <td>45.646126</td>\n",
       "      <td>7008</td>\n",
       "      <td>9598663</td>\n",
       "      <td>SOUTHWEST WASHINGTON MEDICAL CENTER - MEMORIAL...</td>\n",
       "      <td>3400 MAIN STREET</td>\n",
       "      <td>VANCOUVER</td>\n",
       "      <td>WA</td>\n",
       "      <td>98663</td>\n",
       "      <td>NOT AVAILABLE</td>\n",
       "      <td>...</td>\n",
       "      <td>2014-02-10T00:00:00.000Z</td>\n",
       "      <td>www.swmedctr.com</td>\n",
       "      <td>NOT AVAILABLE</td>\n",
       "      <td>NOT AVAILABLE</td>\n",
       "      <td>53</td>\n",
       "      <td>NON-PROFIT</td>\n",
       "      <td>-999</td>\n",
       "      <td>-999</td>\n",
       "      <td>NOT AVAILABLE</td>\n",
       "      <td>N</td>\n",
       "    </tr>\n",
       "    <tr>\n",
       "      <td>24</td>\n",
       "      <td>-83.115881</td>\n",
       "      <td>41.379741</td>\n",
       "      <td>7025</td>\n",
       "      <td>6943420</td>\n",
       "      <td>PHYSICIAN'S CHOICE HOSPITAL - FREMONT, LLC</td>\n",
       "      <td>2390 ENTERPRISE DRIVE</td>\n",
       "      <td>FREMONT</td>\n",
       "      <td>OH</td>\n",
       "      <td>43420</td>\n",
       "      <td>NOT AVAILABLE</td>\n",
       "      <td>...</td>\n",
       "      <td>2014-02-10T00:00:00.000Z</td>\n",
       "      <td>http://www.physicianschoicehospital.com</td>\n",
       "      <td>360356</td>\n",
       "      <td>NOT AVAILABLE</td>\n",
       "      <td>39</td>\n",
       "      <td>NON-PROFIT</td>\n",
       "      <td>-999</td>\n",
       "      <td>-999</td>\n",
       "      <td>NOT AVAILABLE</td>\n",
       "      <td>Y</td>\n",
       "    </tr>\n",
       "    <tr>\n",
       "      <td>39</td>\n",
       "      <td>-122.099127</td>\n",
       "      <td>47.676313</td>\n",
       "      <td>7040</td>\n",
       "      <td>12198052</td>\n",
       "      <td>SWEDISH MEDICAL CENTER - REDMOND ED</td>\n",
       "      <td>18100 UNION HILL ROAD</td>\n",
       "      <td>REDMOND</td>\n",
       "      <td>WA</td>\n",
       "      <td>98052</td>\n",
       "      <td>NOT AVAILABLE</td>\n",
       "      <td>...</td>\n",
       "      <td>2014-02-10T00:00:00.000Z</td>\n",
       "      <td>http://www.swedish.org/</td>\n",
       "      <td>NOT AVAILABLE</td>\n",
       "      <td>NOT AVAILABLE</td>\n",
       "      <td>53</td>\n",
       "      <td>NON-PROFIT</td>\n",
       "      <td>-999</td>\n",
       "      <td>-999</td>\n",
       "      <td>NOT AVAILABLE</td>\n",
       "      <td>N</td>\n",
       "    </tr>\n",
       "    <tr>\n",
       "      <td>63</td>\n",
       "      <td>-122.697034</td>\n",
       "      <td>45.530183</td>\n",
       "      <td>7064</td>\n",
       "      <td>2197210</td>\n",
       "      <td>LEGACY TRANSPLANT SERVICES</td>\n",
       "      <td>1015 NW 22ND AVENUE, W121</td>\n",
       "      <td>PORTLAND</td>\n",
       "      <td>OR</td>\n",
       "      <td>97210</td>\n",
       "      <td>NOT AVAILABLE</td>\n",
       "      <td>...</td>\n",
       "      <td>2014-02-10T00:00:00.000Z</td>\n",
       "      <td>www.legacyhealth.org</td>\n",
       "      <td>14-0027</td>\n",
       "      <td>NOT AVAILABLE</td>\n",
       "      <td>41</td>\n",
       "      <td>NON-PROFIT</td>\n",
       "      <td>-999</td>\n",
       "      <td>-999</td>\n",
       "      <td>NOT AVAILABLE</td>\n",
       "      <td>N</td>\n",
       "    </tr>\n",
       "    <tr>\n",
       "      <td>101</td>\n",
       "      <td>-112.529509</td>\n",
       "      <td>37.054457</td>\n",
       "      <td>7102</td>\n",
       "      <td>884741</td>\n",
       "      <td>KANE COUNTY HOSPITAL</td>\n",
       "      <td>355 NORTH MAIN STREET</td>\n",
       "      <td>KANAB</td>\n",
       "      <td>UT</td>\n",
       "      <td>84741</td>\n",
       "      <td>NOT AVAILABLE</td>\n",
       "      <td>...</td>\n",
       "      <td>2014-02-10T00:00:00.000Z</td>\n",
       "      <td>http://www.kanecountyhospital.net</td>\n",
       "      <td>NOT AVAILABLE</td>\n",
       "      <td>NOT AVAILABLE</td>\n",
       "      <td>49</td>\n",
       "      <td>GOVERNMENT - DISTRICT/AUTHORITY</td>\n",
       "      <td>-999</td>\n",
       "      <td>-999</td>\n",
       "      <td>NOT AVAILABLE</td>\n",
       "      <td>Y</td>\n",
       "    </tr>\n",
       "    <tr>\n",
       "      <td>...</td>\n",
       "      <td>...</td>\n",
       "      <td>...</td>\n",
       "      <td>...</td>\n",
       "      <td>...</td>\n",
       "      <td>...</td>\n",
       "      <td>...</td>\n",
       "      <td>...</td>\n",
       "      <td>...</td>\n",
       "      <td>...</td>\n",
       "      <td>...</td>\n",
       "      <td>...</td>\n",
       "      <td>...</td>\n",
       "      <td>...</td>\n",
       "      <td>...</td>\n",
       "      <td>...</td>\n",
       "      <td>...</td>\n",
       "      <td>...</td>\n",
       "      <td>...</td>\n",
       "      <td>...</td>\n",
       "      <td>...</td>\n",
       "      <td>...</td>\n",
       "    </tr>\n",
       "    <tr>\n",
       "      <td>7389</td>\n",
       "      <td>-79.410028</td>\n",
       "      <td>36.554757</td>\n",
       "      <td>6809</td>\n",
       "      <td>20324541</td>\n",
       "      <td>SOUTHERN VIRGINIA MENTAL HEALTH INSTITUTE</td>\n",
       "      <td>382 TAYLOR DRIVE</td>\n",
       "      <td>DANVILLE</td>\n",
       "      <td>VA</td>\n",
       "      <td>24541</td>\n",
       "      <td>4023</td>\n",
       "      <td>...</td>\n",
       "      <td>2017-03-09T00:00:00.000Z</td>\n",
       "      <td>http://www.svmhi.dbhds.virginia.gov/</td>\n",
       "      <td>NOT AVAILABLE</td>\n",
       "      <td>NOT AVAILABLE</td>\n",
       "      <td>51</td>\n",
       "      <td>GOVERNMENT - STATE</td>\n",
       "      <td>-999</td>\n",
       "      <td>-999</td>\n",
       "      <td>NOT AVAILABLE</td>\n",
       "      <td>N</td>\n",
       "    </tr>\n",
       "    <tr>\n",
       "      <td>7457</td>\n",
       "      <td>-76.740598</td>\n",
       "      <td>37.255513</td>\n",
       "      <td>6877</td>\n",
       "      <td>13623185</td>\n",
       "      <td>DOCTORS DIAGNOSTIC CENTER- WILLIAMSBURG</td>\n",
       "      <td>120 KINGS WAY</td>\n",
       "      <td>WILLIAMSBURG</td>\n",
       "      <td>VA</td>\n",
       "      <td>23185</td>\n",
       "      <td>NOT AVAILABLE</td>\n",
       "      <td>...</td>\n",
       "      <td>2014-02-10T00:00:00.000Z</td>\n",
       "      <td>http://www.riversideonline.com/facilities/outp...</td>\n",
       "      <td>NOT AVAILABLE</td>\n",
       "      <td>NOT AVAILABLE</td>\n",
       "      <td>51</td>\n",
       "      <td>NON-PROFIT</td>\n",
       "      <td>-999</td>\n",
       "      <td>-999</td>\n",
       "      <td>NOT AVAILABLE</td>\n",
       "      <td>N</td>\n",
       "    </tr>\n",
       "    <tr>\n",
       "      <td>7467</td>\n",
       "      <td>-77.308405</td>\n",
       "      <td>38.512653</td>\n",
       "      <td>6887</td>\n",
       "      <td>16222134</td>\n",
       "      <td>NAVAL HEALTH CLINIC (JOHN HENRY BALCH)</td>\n",
       "      <td>3259 CATLIN AVENUE</td>\n",
       "      <td>QUANTICO</td>\n",
       "      <td>VA</td>\n",
       "      <td>22134</td>\n",
       "      <td>NOT AVAILABLE</td>\n",
       "      <td>...</td>\n",
       "      <td>2014-02-10T00:00:00.000Z</td>\n",
       "      <td>http://www.tricare.mil/mtf/facility.aspx?fid=304</td>\n",
       "      <td>NOT AVAILABLE</td>\n",
       "      <td>NOT AVAILABLE</td>\n",
       "      <td>51</td>\n",
       "      <td>GOVERNMENT - FEDERAL</td>\n",
       "      <td>-999</td>\n",
       "      <td>-999</td>\n",
       "      <td>NOT AVAILABLE</td>\n",
       "      <td>N</td>\n",
       "    </tr>\n",
       "    <tr>\n",
       "      <td>7497</td>\n",
       "      <td>-123.081708</td>\n",
       "      <td>44.046021</td>\n",
       "      <td>6917</td>\n",
       "      <td>4397401</td>\n",
       "      <td>SACRED HEART UNIVERSITY DISTRICT</td>\n",
       "      <td>1255 HILYARD STREET</td>\n",
       "      <td>EUGENE</td>\n",
       "      <td>OR</td>\n",
       "      <td>97401</td>\n",
       "      <td>NOT AVAILABLE</td>\n",
       "      <td>...</td>\n",
       "      <td>2014-02-10T00:00:00.000Z</td>\n",
       "      <td>http://www.peacehealth.org/sacred-heart-univer...</td>\n",
       "      <td>14-1467</td>\n",
       "      <td>NOT AVAILABLE</td>\n",
       "      <td>41</td>\n",
       "      <td>NON-PROFIT</td>\n",
       "      <td>-999</td>\n",
       "      <td>-999</td>\n",
       "      <td>LEVEL II</td>\n",
       "      <td>Y</td>\n",
       "    </tr>\n",
       "    <tr>\n",
       "      <td>7515</td>\n",
       "      <td>-122.216761</td>\n",
       "      <td>47.975593</td>\n",
       "      <td>6935</td>\n",
       "      <td>5198206</td>\n",
       "      <td>PROVIDENCE REGIONAL MEDICAL CENTER EVERETT/PAC...</td>\n",
       "      <td>916 PACIFIC AVE</td>\n",
       "      <td>EVERETT</td>\n",
       "      <td>WA</td>\n",
       "      <td>98206</td>\n",
       "      <td>NOT AVAILABLE</td>\n",
       "      <td>...</td>\n",
       "      <td>2014-02-10T00:00:00.000Z</td>\n",
       "      <td>http://www.providence.org</td>\n",
       "      <td>84</td>\n",
       "      <td>VALLEY GENERAL HOSPITAL</td>\n",
       "      <td>53</td>\n",
       "      <td>NON-PROFIT</td>\n",
       "      <td>-999</td>\n",
       "      <td>-999</td>\n",
       "      <td>LEVEL II, LEVEL III PEDIATRIC</td>\n",
       "      <td>Y</td>\n",
       "    </tr>\n",
       "  </tbody>\n",
       "</table>\n",
       "<p>662 rows × 34 columns</p>\n",
       "</div>"
      ],
      "text/plain": [
       "               X          Y  OBJECTID        ID  \\\n",
       "7    -122.669889  45.646126      7008   9598663   \n",
       "24    -83.115881  41.379741      7025   6943420   \n",
       "39   -122.099127  47.676313      7040  12198052   \n",
       "63   -122.697034  45.530183      7064   2197210   \n",
       "101  -112.529509  37.054457      7102    884741   \n",
       "...          ...        ...       ...       ...   \n",
       "7389  -79.410028  36.554757      6809  20324541   \n",
       "7457  -76.740598  37.255513      6877  13623185   \n",
       "7467  -77.308405  38.512653      6887  16222134   \n",
       "7497 -123.081708  44.046021      6917   4397401   \n",
       "7515 -122.216761  47.975593      6935   5198206   \n",
       "\n",
       "                                                   NAME  \\\n",
       "7     SOUTHWEST WASHINGTON MEDICAL CENTER - MEMORIAL...   \n",
       "24           PHYSICIAN'S CHOICE HOSPITAL - FREMONT, LLC   \n",
       "39                  SWEDISH MEDICAL CENTER - REDMOND ED   \n",
       "63                           LEGACY TRANSPLANT SERVICES   \n",
       "101                                KANE COUNTY HOSPITAL   \n",
       "...                                                 ...   \n",
       "7389          SOUTHERN VIRGINIA MENTAL HEALTH INSTITUTE   \n",
       "7457            DOCTORS DIAGNOSTIC CENTER- WILLIAMSBURG   \n",
       "7467             NAVAL HEALTH CLINIC (JOHN HENRY BALCH)   \n",
       "7497                   SACRED HEART UNIVERSITY DISTRICT   \n",
       "7515  PROVIDENCE REGIONAL MEDICAL CENTER EVERETT/PAC...   \n",
       "\n",
       "                        ADDRESS          CITY STATE    ZIP           ZIP4  \\\n",
       "7              3400 MAIN STREET     VANCOUVER    WA  98663  NOT AVAILABLE   \n",
       "24        2390 ENTERPRISE DRIVE       FREMONT    OH  43420  NOT AVAILABLE   \n",
       "39        18100 UNION HILL ROAD       REDMOND    WA  98052  NOT AVAILABLE   \n",
       "63    1015 NW 22ND AVENUE, W121      PORTLAND    OR  97210  NOT AVAILABLE   \n",
       "101       355 NORTH MAIN STREET         KANAB    UT  84741  NOT AVAILABLE   \n",
       "...                         ...           ...   ...    ...            ...   \n",
       "7389           382 TAYLOR DRIVE      DANVILLE    VA  24541           4023   \n",
       "7457              120 KINGS WAY  WILLIAMSBURG    VA  23185  NOT AVAILABLE   \n",
       "7467         3259 CATLIN AVENUE      QUANTICO    VA  22134  NOT AVAILABLE   \n",
       "7497        1255 HILYARD STREET        EUGENE    OR  97401  NOT AVAILABLE   \n",
       "7515            916 PACIFIC AVE       EVERETT    WA  98206  NOT AVAILABLE   \n",
       "\n",
       "      ...                  VAL_DATE  \\\n",
       "7     ...  2014-02-10T00:00:00.000Z   \n",
       "24    ...  2014-02-10T00:00:00.000Z   \n",
       "39    ...  2014-02-10T00:00:00.000Z   \n",
       "63    ...  2014-02-10T00:00:00.000Z   \n",
       "101   ...  2014-02-10T00:00:00.000Z   \n",
       "...   ...                       ...   \n",
       "7389  ...  2017-03-09T00:00:00.000Z   \n",
       "7457  ...  2014-02-10T00:00:00.000Z   \n",
       "7467  ...  2014-02-10T00:00:00.000Z   \n",
       "7497  ...  2014-02-10T00:00:00.000Z   \n",
       "7515  ...  2014-02-10T00:00:00.000Z   \n",
       "\n",
       "                                                WEBSITE       STATE_ID  \\\n",
       "7                                      www.swmedctr.com  NOT AVAILABLE   \n",
       "24              http://www.physicianschoicehospital.com         360356   \n",
       "39                              http://www.swedish.org/  NOT AVAILABLE   \n",
       "63                                 www.legacyhealth.org        14-0027   \n",
       "101                   http://www.kanecountyhospital.net  NOT AVAILABLE   \n",
       "...                                                 ...            ...   \n",
       "7389               http://www.svmhi.dbhds.virginia.gov/  NOT AVAILABLE   \n",
       "7457  http://www.riversideonline.com/facilities/outp...  NOT AVAILABLE   \n",
       "7467   http://www.tricare.mil/mtf/facility.aspx?fid=304  NOT AVAILABLE   \n",
       "7497  http://www.peacehealth.org/sacred-heart-univer...        14-1467   \n",
       "7515                          http://www.providence.org             84   \n",
       "\n",
       "                     ALT_NAME ST_FIPS                            OWNER  \\\n",
       "7               NOT AVAILABLE      53                       NON-PROFIT   \n",
       "24              NOT AVAILABLE      39                       NON-PROFIT   \n",
       "39              NOT AVAILABLE      53                       NON-PROFIT   \n",
       "63              NOT AVAILABLE      41                       NON-PROFIT   \n",
       "101             NOT AVAILABLE      49  GOVERNMENT - DISTRICT/AUTHORITY   \n",
       "...                       ...     ...                              ...   \n",
       "7389            NOT AVAILABLE      51               GOVERNMENT - STATE   \n",
       "7457            NOT AVAILABLE      51                       NON-PROFIT   \n",
       "7467            NOT AVAILABLE      51             GOVERNMENT - FEDERAL   \n",
       "7497            NOT AVAILABLE      41                       NON-PROFIT   \n",
       "7515  VALLEY GENERAL HOSPITAL      53                       NON-PROFIT   \n",
       "\n",
       "     TTL_STAFF  BEDS                         TRAUMA  HELIPAD  \n",
       "7         -999  -999                  NOT AVAILABLE        N  \n",
       "24        -999  -999                  NOT AVAILABLE        Y  \n",
       "39        -999  -999                  NOT AVAILABLE        N  \n",
       "63        -999  -999                  NOT AVAILABLE        N  \n",
       "101       -999  -999                  NOT AVAILABLE        Y  \n",
       "...        ...   ...                            ...      ...  \n",
       "7389      -999  -999                  NOT AVAILABLE        N  \n",
       "7457      -999  -999                  NOT AVAILABLE        N  \n",
       "7467      -999  -999                  NOT AVAILABLE        N  \n",
       "7497      -999  -999                       LEVEL II        Y  \n",
       "7515      -999  -999  LEVEL II, LEVEL III PEDIATRIC        Y  \n",
       "\n",
       "[662 rows x 34 columns]"
      ]
     },
     "execution_count": 113,
     "metadata": {},
     "output_type": "execute_result"
    }
   ],
   "source": [
    "df[\n",
    "    df['BEDS'] == -999\n",
    "]"
   ]
  },
  {
   "cell_type": "markdown",
   "metadata": {},
   "source": [
    "#### Okay now let's use that to write a `numpy.where()` conditional Statement\n",
    "\n",
    "`numpy.where(condition[, x, y])`\n",
    "\n",
    ">  `Where True, yield x, otherwise yield y.` Source: https://docs.scipy.org/doc/numpy/reference/generated/numpy.where.html\n",
    "\n",
    "#### We'll replace -999 with the `np.nan` missing data type. "
   ]
  },
  {
   "cell_type": "code",
   "execution_count": 116,
   "metadata": {},
   "outputs": [],
   "source": [
    "import numpy as np"
   ]
  },
  {
   "cell_type": "code",
   "execution_count": 119,
   "metadata": {},
   "outputs": [
    {
     "data": {
      "text/plain": [
       "nan"
      ]
     },
     "execution_count": 119,
     "metadata": {},
     "output_type": "execute_result"
    }
   ],
   "source": [
    "np.nan"
   ]
  },
  {
   "cell_type": "code",
   "execution_count": 141,
   "metadata": {},
   "outputs": [],
   "source": [
    "df['BEDS_newcol'] = np.where(\n",
    "    df['BEDS'] == -999,   # the query \n",
    "    np.nan,               # if true, return np.nan\n",
    "    df['BEDS'],           # else: df['BEDS']\n",
    ")"
   ]
  },
  {
   "cell_type": "code",
   "execution_count": 145,
   "metadata": {},
   "outputs": [],
   "source": [
    "def reclass_beds(bed_count):\n",
    "    if bed_count == -999:\n",
    "        return np.nan\n",
    "    else:\n",
    "        return bed_count\n",
    "    \n",
    "df['BEDS_newcol2'] = df['BEDS'].apply(reclass_beds)\n",
    "\n",
    "#"
   ]
  },
  {
   "cell_type": "code",
   "execution_count": 149,
   "metadata": {},
   "outputs": [],
   "source": [
    "df['BEDS_newcol'] = np.where(\n",
    "    df['BEDS'].isin([-999, 659, 203]),   # the query \n",
    "    np.nan,               # if true, return np.nan\n",
    "    df['BEDS'],           # else: df['BEDS']\n",
    ")"
   ]
  },
  {
   "cell_type": "markdown",
   "metadata": {},
   "source": [
    "#### Check out `BEDS_newcol`"
   ]
  },
  {
   "cell_type": "code",
   "execution_count": 150,
   "metadata": {},
   "outputs": [
    {
     "data": {
      "text/plain": [
       "0      46.0\n",
       "1      40.0\n",
       "2      20.0\n",
       "3      25.0\n",
       "4      25.0\n",
       "5     169.0\n",
       "6      25.0\n",
       "7       NaN\n",
       "8       8.0\n",
       "9       3.0\n",
       "10    100.0\n",
       "11     72.0\n",
       "12      NaN\n",
       "13    130.0\n",
       "14      NaN\n",
       "Name: BEDS_newcol, dtype: float64"
      ]
     },
     "execution_count": 150,
     "metadata": {},
     "output_type": "execute_result"
    }
   ],
   "source": [
    "df['BEDS_newcol'].head(15)"
   ]
  },
  {
   "cell_type": "markdown",
   "metadata": {},
   "source": [
    "#### Now let's look at a `.hist()` (histogram) of our BEDS_newcol\n"
   ]
  },
  {
   "cell_type": "code",
   "execution_count": 122,
   "metadata": {},
   "outputs": [
    {
     "data": {
      "image/png": "[encoded data removed]",
      "text/plain": [
       "<Figure size 432x288 with 1 Axes>"
      ]
     },
     "metadata": {
      "needs_background": "light"
     },
     "output_type": "display_data"
    }
   ],
   "source": [
    "df['BEDS_newcol'].hist(bins=10);"
   ]
  },
  {
   "cell_type": "markdown",
   "metadata": {},
   "source": [
    "#### We can see which columns `isnull()`"
   ]
  },
  {
   "cell_type": "code",
   "execution_count": 124,
   "metadata": {},
   "outputs": [
    {
     "data": {
      "text/plain": [
       "0     False\n",
       "1     False\n",
       "2     False\n",
       "3     False\n",
       "4     False\n",
       "5     False\n",
       "6     False\n",
       "7      True\n",
       "8     False\n",
       "9     False\n",
       "10    False\n",
       "11    False\n",
       "12    False\n",
       "13    False\n",
       "14    False\n",
       "Name: BEDS_newcol, dtype: bool"
      ]
     },
     "execution_count": 124,
     "metadata": {},
     "output_type": "execute_result"
    }
   ],
   "source": [
    "df['BEDS_newcol'].isnull().head(15)"
   ]
  },
  {
   "cell_type": "markdown",
   "metadata": {},
   "source": [
    "#### And we can sum to see how many are null. "
   ]
  },
  {
   "cell_type": "code",
   "execution_count": 126,
   "metadata": {},
   "outputs": [
    {
     "data": {
      "text/plain": [
       "662"
      ]
     },
     "execution_count": 126,
     "metadata": {},
     "output_type": "execute_result"
    }
   ],
   "source": [
    "df['BEDS_newcol'].isnull().sum()"
   ]
  },
  {
   "cell_type": "code",
   "execution_count": 140,
   "metadata": {},
   "outputs": [
    {
     "data": {
      "text/plain": [
       "['SOUTHWEST WASHINGTON MEDICAL CENTER - MEMORIAL CAMPUS',\n",
       " \"PHYSICIAN'S CHOICE HOSPITAL - FREMONT, LLC\",\n",
       " 'SWEDISH MEDICAL CENTER - REDMOND ED',\n",
       " 'LEGACY TRANSPLANT SERVICES',\n",
       " 'KANE COUNTY HOSPITAL',\n",
       " 'SWEDISH MEDICAL CENTER - ISSAQUAH CAMPUS',\n",
       " 'KEYSTONE TREATMENT CENTER',\n",
       " 'ST JAMES MERCY HOSPITAL - MERCYCARE',\n",
       " 'VA MEDICAL CENTER - MONTROSE CAMPUS',\n",
       " 'VA MEDICAL CENTER - SYRACUSE',\n",
       " 'CAPITAL DISTRICT PSYCHIATRIC CENTER',\n",
       " \"LARABIDA CHILDREN'S HOSPITAL\",\n",
       " 'VA MEDICAL CENTER - BECKLEY',\n",
       " 'VA MAINE HEALTHCARE SYSTEM TOGUS',\n",
       " 'MIDDLE TENNESSEE MEDICAL CENTER',\n",
       " 'JOHNSON COUNTY HEALTH CENTER',\n",
       " 'BAPTIST HOSPITAL OF EAST TENNESSEE',\n",
       " 'SELECT SPECIALTY HOSPITAL - KNOXVILLE (UT MEDICAL CENTER)',\n",
       " 'BAPTIST HOSPITAL FOR WOMEN',\n",
       " 'JAMES H. QUILLEN VA MEDICAL CENTER',\n",
       " 'CLINICA ESPANOLA INC',\n",
       " 'HOSP GENERAL MENONITA - AIBONITO',\n",
       " 'CENTRO CARDIOVASCULAR DE PR Y CARIBE DR RAMON M SUAREZ',\n",
       " 'HOSP PEDIATRICO UNIVERSITARIO DR ANTONIO ORTIZ',\n",
       " 'HOSP PSIQUIATRICO DR RAMON FERNANDEZ MARINA',\n",
       " 'HEALTH SOUTH REHABILITATION OF PR',\n",
       " 'HOSP PSIQUIATRICO CORRECCIONAL',\n",
       " 'LBJ TROPICAL MEDICAL CENTER',\n",
       " 'MEMORIAL HOSPITAL',\n",
       " 'THC CHICAGO, INC. - DBA KINDRED HOSPITAL - CHICAGO',\n",
       " 'PRISTINE HOSPITAL OF PASADENA',\n",
       " 'GRACE HOSPITAL',\n",
       " \"ST. LUKE'S MERIDIAN MEDICAL CENTER\",\n",
       " 'NAVAL HOSPITAL PENSACOLA',\n",
       " '88TH MEDICAL GROUP - WRIGHT-PATTERSON AIR FORCE BASE MEDICAL CENTER',\n",
       " 'FORT LEONARD WOOD ARMY COMMUNITY HOSPITAL',\n",
       " 'ALASKA VA HEALTHCARE SYSTEM',\n",
       " 'VA MEDICAL CENTER - NEWINGTON CAMPUS',\n",
       " 'VA MEDICAL CENTER - ALVIN C. YORK CAMPUS',\n",
       " 'SCOTT & WHITE PAVILION',\n",
       " 'MERCY REHABILITATION SERVICES',\n",
       " 'FORT VALLEY STATE UNIVERSITY HEALTH SYSTEM',\n",
       " 'BAYNE-JONES ARMY COMMUNITY HOSPITAL',\n",
       " 'BLANCHFIELD ARMY COMMUNITY HOSPITAL',\n",
       " 'IRELAND ARMY COMMUNITY HOSPITAL',\n",
       " 'NAVAL HOSPITAL CAMP PENDLETON',\n",
       " 'NAVAL HOSPITAL GUAM',\n",
       " 'WALTER REED NATIONAL MILITARY MEDICAL CENTER',\n",
       " 'CHARLTON MEMORIAL HOSPITAL',\n",
       " 'COMPASS BEHAVIORAL CENTER OF HOUMA',\n",
       " 'COMPASS BEHAVIORAL CENTER OF ALEXANDRIA',\n",
       " 'LAKE AREA MEDICAL CENTER',\n",
       " 'SPECIALTY HOSPITAL',\n",
       " 'UNITED MEDICAL HEALTHWEST-NEW ORLEANS',\n",
       " 'BEACON BEHAVIORAL HOSPITAL',\n",
       " 'KAILO BEHAVIORAL HOSPITAL',\n",
       " 'NEW ORLEANS EAST HOSPITAL',\n",
       " 'OUR LADY OF THE ANGELS HOSPITAL',\n",
       " 'FELICIANA FORENSIC FACILITY',\n",
       " 'EVANS ARMY COMMUNITY HOSPITAL',\n",
       " 'ROBERT E. BUSH NAVAL HOSPITAL',\n",
       " 'VA CENTRAL CALIFORNIA HEALTH CARE SYSTEM',\n",
       " 'VA MEDICAL CENTER - PROVIDENCE',\n",
       " 'VA MEDICAL CENTER - TOMAH',\n",
       " 'EARL K LONG MEDICAL CENTER',\n",
       " 'NEW HORIZONS LANIER PARK HOSPITAL',\n",
       " 'MERCY HOSPITAL OZARK',\n",
       " 'MERCY HOSPITAL ROGERS',\n",
       " 'ACADIA GENERAL HOSPITAL',\n",
       " 'NATCHAUG HOSPITAL, INC.',\n",
       " 'DR SOLOMON CARTER FULLER MENTAL HEALTH CENTER',\n",
       " 'DR JOHN C CORRIGAN MENTAL HEALTH CENTER',\n",
       " 'BAPTIST HEALTH MEDICAL CENTER-STUTTGART',\n",
       " 'MERCY HOSPITAL WALDRON',\n",
       " 'CAPE COD & ISLANDS COMMUNITY MENTAL HEALTH CENTER',\n",
       " 'BOURNEWOOD HOSPITAL',\n",
       " 'HIGHLAND PARK HOSPITAL',\n",
       " 'MONTEFIORE WESTCHESTER SQUARE MEDICAL CENTER',\n",
       " 'THE ADDICTION INSTITUTE OF NEW YORK',\n",
       " 'MOHAWK VALLEY HEART INSTITUTE, INC',\n",
       " 'NYULMC - COBBLE HILL',\n",
       " 'URMC STRONG WEST',\n",
       " 'VA MEDICAL CENTER - BATH',\n",
       " 'VA MEDICAL CENTER - CANANDAIGUA',\n",
       " 'JAMES J. PETERS VA MEDICAL CENTER',\n",
       " 'GLENBROOK HOSPITAL',\n",
       " 'HUTCHINGS PSYCHIATRIC CENTER',\n",
       " 'ST JOSEPH MEDICAL CENTER',\n",
       " 'JACKSON COUNTY HOSPITAL',\n",
       " 'TENNOVA HEALTHCARE - LEBANON MCFARLAND CAMPUS',\n",
       " 'MANATI MEDICAL CENTER DR ALEJANDRO OTERO LOPEZ',\n",
       " 'CENTRO DE SALUD INTEGRAL DE OROCOVIS',\n",
       " 'ADMINISTRACION DE SERVICIOS MEDICOS DE PR (ASEM)',\n",
       " 'HOSP METROPOLITANO DE SAN JUAN',\n",
       " 'HOSP ONCOLOGICO DR ISAAC GONZALEZ MARTINEZ',\n",
       " 'ADAK MEDICAL CENTER - EAT',\n",
       " \"ST JOSEPH'S WOMEN'S HOSPITAL\",\n",
       " 'GARFIELD PARK HOSPITAL, LLC',\n",
       " \"SAINT CLARE'S HOSPITAL\",\n",
       " 'GOOD SAMARITAN REGIONAL HEALTH CENTER',\n",
       " 'MENDOTA COMMUNITY HOSPITAL',\n",
       " 'RENAISSANCE HOSPITAL TERRELL',\n",
       " 'SHELBY REGIONAL MEDICAL CENTER',\n",
       " 'SAM RAYBURN MEMORIAL VETERANS CENTER',\n",
       " 'BAYLOR SCOTT & WHITE MEDICAL CENTER - HILLCREST',\n",
       " 'ST CHARLES - MADRAS',\n",
       " 'WINCHESTER REHABILITATION CENTER',\n",
       " \"ST. LUKE'S REHABILITATION\",\n",
       " 'MARIAN CENTER',\n",
       " 'BLUE MOUNTAIN HOSPITAL',\n",
       " 'NAVAL MEDICAL CENTER PORTSMOUTH',\n",
       " 'VA MEDICAL CENTER - OMAHA',\n",
       " 'UNIVERSITY OF MINNESOTA MEDICAL CENTER-FAIRVIEW-EAST BANK-ER',\n",
       " 'EDWARD PLAINFIELD',\n",
       " 'KERRVILLE VA HOSPITAL, STVHCS',\n",
       " \"GEORGE H. O'BRIEN, JR. VA MEDICAL CENTER\",\n",
       " \"OLIN E. TEAGUE VETERANS' MEDICAL CENTER\",\n",
       " 'DORIS MILLER DEPARTMENT OF VETERANS AFFAIRS MEDICAL CENTER',\n",
       " 'VA HEALTH CARE CENTER (HCC) AT HARLINGEN',\n",
       " 'BAYLOR INSTITUTE FOR REHABILITATION AT NORTHWEST DALLAS',\n",
       " 'MCALLEN HEART HOSPITAL',\n",
       " 'TULANE - LAKESIDE HOSPITAL',\n",
       " 'ST. CHARLES SURGICAL HOSPITAL',\n",
       " 'CENTRAL LOUISIANA SURGICAL HOSPITAL',\n",
       " 'EUNICE EXTENDED CARE HOSPITAL',\n",
       " 'DESOTO REGIONAL HEALTH SYSTEM',\n",
       " \"WOMAN'S HOSPITAL\",\n",
       " '96TH MEDICAL GROUP-EGLIN HOSPITAL',\n",
       " 'REID HOSPITAL-ER',\n",
       " 'ARKANSAS STATE HOSPITAL',\n",
       " 'BAPTIST HEALTH MEDICAL CENTER - LITTLE ROCK',\n",
       " 'OZARKS COMMUNITY HOSPITAL OF GRAVETTE',\n",
       " \"PHYSICIANS' SPECIALTY HOSPITAL\",\n",
       " 'SILOAM SPRINGS MEMORIAL HOSPITAL',\n",
       " 'SPRINGWOODS BEHAVIORAL HEALTH SERVICES',\n",
       " 'PAPPAS REHABILITATION HOSPITAL FOR CHILDREN',\n",
       " 'VA MEDICAL CENTER - BATTLE CREEK',\n",
       " \"HAWTHORN CHILDREN'S PSYCHIATRIC HOSPITAL\",\n",
       " 'FULTON STATE HOSPITAL',\n",
       " 'VA MEDICAL CENTER - JEFFERSON BARRACKS DIVISION',\n",
       " 'TRINITY HOSPITAL',\n",
       " 'PROVIDENCE ST JOSEPH MEDICAL CENTER',\n",
       " 'ORLANDO VETERANS AFFAIRS MEDICAL CENTER',\n",
       " 'OREGON STATE HOSPITAL  PORTLAND',\n",
       " 'PORTLAND VA MEDICAL CENTER',\n",
       " 'SPRINGFIELD REGIONAL MEDICAL CTR-ER',\n",
       " 'WYOMING RECOVER LLC',\n",
       " 'MOUNTAINVIEW HOSPITAL',\n",
       " 'ACUITY SPECIALTY HOSPITAL OF ARIZONA AT MESA',\n",
       " 'DOUGLAS COMMUNITY HOSPITAL, INC',\n",
       " 'TAYLOR HOSPITAL',\n",
       " 'DHHS PHS IHS TUCSON AREA IHS TUCSON',\n",
       " 'WESTERN REGIONAL MEDICAL CENTER CANCER HOSPITAL',\n",
       " 'HOPI HEALTH CARE CENTER/DHHS IHS PHOENIX AREA',\n",
       " 'WHITERIVER INDIAN HOSPITAL',\n",
       " 'PHOENIX VA HEALTH CARE SYSTEM',\n",
       " 'ROSEBURG VA MEDICAL CENTER',\n",
       " 'COMMONWEALTH CENTER FOR CHILDREN AND ADOLESCENTS',\n",
       " 'SAINT JOSEPH HOSPITAL - SOUTH CAMPUS',\n",
       " \"CAMC WOMEN AND CHILDREN'S HOSPITAL\",\n",
       " 'ST MARGARETS HOSPITAL',\n",
       " 'BLESSING HOSPITAL AT 14TH STREET',\n",
       " 'MEMORIAL HOSPITAL, THE',\n",
       " 'THE GEORGIA CENTER FOR YOUTH',\n",
       " 'CRESCENT CITY SURGICAL CENTRE',\n",
       " 'LSU BOGALUSA MEDICAL CENTER (OUTPATIENT CAMPUS)',\n",
       " 'ST. THERESA SPECIALTY HOSPITAL - KENNER',\n",
       " 'CORNERSTONE HOSPITAL OF SOUTHWEST LOUISIANA',\n",
       " 'CASTLE ROCK ADVENTIST HOSPITAL',\n",
       " 'PEAK VIEW BEHAVIORAL HEALTH',\n",
       " 'BASTROP REHABILITATION HOSPITAL - MONROE',\n",
       " 'PATHWAY REHABILITATION HOSPIAL OF BOSSIER',\n",
       " 'BATON ROUGE BEHAVIORAL HOSPITAL',\n",
       " 'CLAIBORNE MEMORIAL MEDICAL CENTER',\n",
       " 'LOUISIANA EXTENDED CARE HOSPITAL OF WEST MONROE',\n",
       " 'M M O REHABILITATION AND WELLNESS CENTER',\n",
       " 'POST ACUTE SPECIALTY HOSPITAL OF LAFAYETTE',\n",
       " 'PROMISE HOSPITAL OF ASCENSION',\n",
       " 'WEST LOS ANGELES MEDICAL CENTER',\n",
       " 'CLEMENT J. ZABLOCKI VA MEDICAL CENTER',\n",
       " 'WILLIAM S. MIDDLETON MEMORIAL VETERANS HOSPITAL',\n",
       " 'BOULDER COMMUNITY FOOTHILLS HOSPITAL',\n",
       " 'JOAN GLANCY MEMORIAL HOSPITAL',\n",
       " 'LSU MEDICAL CENTER',\n",
       " \"WILLIS-KNIGHTON SOUTH & CENTER FOR WOMEN'S HEALTH\",\n",
       " 'UNIVERSITY HEALTH CONWAY',\n",
       " 'SILVER HILL HOSPITAL, INC.',\n",
       " 'PORTER-PORTAGE HOSPITAL CAMPUS-ER',\n",
       " 'HEALTHSOUTH REHABILITATION HOSPITAL OF JONESBORO',\n",
       " 'PINNACLE POINTE BEHAVIORAL HEALTHCARE SYSTEM',\n",
       " 'KIDSPEACE NATIONAL CENTERS OF NEW ENGLAND',\n",
       " 'HENRY FORD MACOMB HOSPITAL-MT CLEMENS CAMPUS',\n",
       " 'CENTER FOR BEHAVIORAL MEDICINE',\n",
       " 'UNIVERSITY OF MISSOURI HEALTH CARE',\n",
       " 'CHILDRENS HOSPITAL OF NEW JERSEY - NEWARK',\n",
       " 'HUDSON SURGICAL CENTER',\n",
       " 'MERCY ST THERESA CENTER',\n",
       " 'CENTENNIAL MEDICAL PLAZA',\n",
       " \"CHILDREN'S HOSPITAL COLORADO AT ST JOSEPHS HOSP\",\n",
       " \"CHILDREN'S HOSPITAL COLORADO AT MEMORIAL HOSPITAL CENTRAL\",\n",
       " \"CHILDREN'S HOSPITAL COLORADO AT PARKER ADVENTIST HOSPITAL\",\n",
       " 'HEALTHSOUTH REHABILITATION HOSPITAL OF LITTLETON',\n",
       " 'UNIVERSITY OF COLORADO HOSPITAL ANSCHUTZ INPATIENT PAVILION',\n",
       " 'HEALTHSOUTH REHABILITATION HOSPITAL OF ALEXANDRIA',\n",
       " 'SLIDELL -AMG SPECIALTY HOSPTIAL',\n",
       " 'GAYLORD HOSPITAL',\n",
       " \"ST MARY'S OF MICHIGAN-TOWNE CTR\",\n",
       " 'NORTHWEST MO PSYCHIATRIC REHAB CTR',\n",
       " 'KERNERSVILLE MEDICAL CENTER-ER',\n",
       " 'ST JOSEPH HOSPITAL MILFORD MED CTR',\n",
       " 'VA MEDICAL CENTER - BIRMINGHAM',\n",
       " 'FOX ARMY HEALTH CENTER: LAMBERT RHONDA W',\n",
       " 'MERCY MEDICAL CENTER',\n",
       " 'MARY S. HARPER GERIATRIC PSYCHIATRY CENTER',\n",
       " 'VA MEDICAL CENTER - TUSCALOOSA',\n",
       " 'CENTRAL ALABAMA VETERANS HEALTH CARE SYSTEM EAST CAMPUS',\n",
       " 'WELLSPAN SURGERY AND REHABILITATION HOSPITAL',\n",
       " \"ST JOSEPH'S CHILDREN'S HOME\",\n",
       " 'FIRST HOSP PANAMERICANO - CIDRA',\n",
       " 'MARIAN BEHAVIORAL HEALTH CENTER',\n",
       " 'SAINT CLARES HOSPITAL - SUSSEX CAMPUS',\n",
       " 'CANCER INSTITUTE OF NEW JERSEY',\n",
       " 'K HOVNANIAN CHILDRENS HOSPITAL',\n",
       " 'SILVER SPRINGS RURAL HEALTH CENTERS',\n",
       " 'PROVO CANYON BEHAVIORAL HOSPITAL',\n",
       " 'SOUTH JORDAN HEALTH CENTER',\n",
       " 'MOUNTAIN POINT MEDICAL CENTER',\n",
       " \"SGT. JOHN L. LEVITOW VETERAN'S HEALTH CENTER\",\n",
       " 'RCHP-SIERRA VISTA, INC.',\n",
       " 'CAMBRIDGE HEALTH ALLIANCE - WHIDDEN MEMORIAL CAMPUS',\n",
       " 'CHARLESTON SURGICAL HOSPITAL',\n",
       " 'HIGHLAND-CLARKSBURG HOSPITAL INC',\n",
       " 'CAMC MEMORIAL HOSPITAL',\n",
       " 'HIMA SAN PABLO - HUMACAO',\n",
       " 'HOSP PSIQUIATRIA FORENSE DE RIO PIEDRAS',\n",
       " 'SAMUEL SIMMONDS MEMORIAL HOSPITAL',\n",
       " 'NAPERVILLE PSYCHIATRIC VENTURES - DBA LINDEN OAKS HOSPITAL',\n",
       " \"ANN & ROBERT H LURIE CHILDREN'S HOSPITAL OF CHICAGO\",\n",
       " 'PRESENCE RESURRECTION MEDICAL CENTER',\n",
       " \"ST. JOSEPH'S HOSPITAL\",\n",
       " 'NORTHCOAST BEHAVIORAL HEALTHCARE NORTHFIELD CAMPUS',\n",
       " 'RAINBOW BABIES AND CHILDRENS HOSPITAL',\n",
       " 'LOGANSPORT STATE HOSPITAL',\n",
       " 'COMMUNITY HOSPITAL ONAGA LTCU',\n",
       " 'GRISELL MEMORIAL HOSPITAL LTCU',\n",
       " 'CENTER FOR CHANGE',\n",
       " 'MS BAND OF CHOCTAW HOSPITAL',\n",
       " 'CHICKASAW NATION MEDICAL CENTER',\n",
       " 'BARTLETT REGIONAL HOSPITAL',\n",
       " 'STANDING ROCK INDIAN HEALTH SERVICES HOSPITAL',\n",
       " 'CLAREMORE HOSPITAL',\n",
       " 'WINNEBAGO HOSPITAL',\n",
       " 'BLACKFEET COMMUNITY HOSPITAL',\n",
       " 'IRWIN ARMY COMMUNITY HOSPITAL',\n",
       " 'NAVAL HOSPITAL BEAUFORT',\n",
       " 'BASSETT ARMY COMMUNITY HOSPITAL',\n",
       " 'REYNOLDS ARMY COMMUNITY HOSPITAL',\n",
       " 'FORT BELVOIR COMMUNITY HOSPITAL',\n",
       " 'MONCRIEF ARMY COMMUNITY HOSPITAL',\n",
       " \"JAMES A. HALEY VETERANS' HOSPITAL PRIMARY CARE ANNEX\",\n",
       " 'VA MEDICAL CENTER - FORT WAYNE CAMPUS',\n",
       " 'ROBERT J. DOLE VA MEDICAL CENTER',\n",
       " \"COLMERY-O'NEIL VA MEDICAL CENTER\",\n",
       " 'CAPTAIN JAMES A. LOVELL FEDERAL HEALTH CARE CENTER',\n",
       " 'RICHARD L. ROUDEBUSH VA MEDICAL CENTER',\n",
       " 'DWIGHT D. EISENHOWER VA MEDICAL CENTER',\n",
       " 'VA MEDICAL CENTER - BROCKTON DIVISION',\n",
       " 'VA CENTRAL WESTERN MASSACHUSETTS HEALTHCARE SYSTEM',\n",
       " 'VA MEDICAL CENTER - MANCHESTER',\n",
       " 'VA MEDICAL CENTER - H.J. HEINZ CAMPUS',\n",
       " 'GEORGE E. WAHLEN DEPARTMENT OF VETERANS AFFAIRS MEDICAL CENTER',\n",
       " 'VA MEDICAL CENTER - CHEYENNE',\n",
       " 'HUNTER HOLMES MCGUIRE VA MEDICAL CENTER',\n",
       " 'VA MEDICAL CENTER - VANCOUVER CAMPUS',\n",
       " 'VA MEDICAL CENTER - SHERIDAN',\n",
       " 'SHAWNEE MISSION PRAIRIE STAR',\n",
       " 'OVERLOOK MEDICAL CENTER',\n",
       " 'SAINT ALPHONSUS EAGLE HEALTH PLZ-ER',\n",
       " 'KINDRED HOSPITAL NORTH HOUSTON',\n",
       " 'CARL R. DARNALL ARMY MEDICAL CENTER',\n",
       " 'BROOKE ARMY MEDICAL CENTER',\n",
       " 'THOMAS E. CREEK VA MEDICAL CENTER',\n",
       " 'AUSTIN VA OUTPATIENT CLINIC',\n",
       " 'MICHAEL E. DEBAKEY VA MEDICAL CENTER',\n",
       " 'AUDIE L. MURPHY VA HOSPITAL, STVHCS',\n",
       " 'NORTH TEXAS STATE HOSPITAL WICHITA FALLS CAMPUS',\n",
       " 'LLANO SPECIALTY HOSPITAL',\n",
       " 'CAVHCS WEST CAMPUS',\n",
       " 'VA CENTRAL IOWA HEALTHCARE SYSTEM',\n",
       " 'STERLINGTON REHABILITATION HOSPITAL',\n",
       " 'CHAMPION MEDICAL CENTER - BATON ROUGE',\n",
       " 'STERLING SURGICAL HOSPITAL',\n",
       " 'OCHSNER MEDICAL CENTER- KENNER LLC',\n",
       " 'NAVAL MEDICAL CENTER SAN DIEGO',\n",
       " 'NAVAL HOSPITAL LEMOORE',\n",
       " 'WEED ARMY COMMUNITY HOSPITAL',\n",
       " 'VA MEDICAL CENTER - MENLO PARK DIVISION',\n",
       " 'LOS ANGELES AMBULATORY CARE CENTER',\n",
       " 'VA MEDICAL CENTER - PALO ALTO DIVISION',\n",
       " 'UINTAH BASIN CARE AND REHABILITATION',\n",
       " 'VA SOUTHERN NEVADA HEALTHCARE SYSTEM',\n",
       " 'NORTH STAR HOSPITAL - BRAGAW CAMPUS',\n",
       " 'WEST HAVEN VA MEDICAL CENTER',\n",
       " 'UPMC PASSAVANT-CRANBERRY-ER',\n",
       " 'MOUNTAIN VALLEY REGIONAL REHABILITATION HOSPITAL',\n",
       " 'UPMC HORIZON-SHENANGO VALLEY-ER',\n",
       " 'SELECT SPECIALTY HOSPITAL CENTRAL PA',\n",
       " 'SOUTHERN ARIZONA VA HEALTH CARE SYSTEM',\n",
       " 'REGIONAL BEHAVIORAL HEALTH CENTER',\n",
       " 'SIOUX FALLS VETERANS AFFAIRS MEDICAL CENTER',\n",
       " 'VERNON M. GEDDY JR. OUTPATIENT CENTER',\n",
       " 'BON SECOURS HEALTH CENTER AT HARBOUR VIEW',\n",
       " 'LAKEVIEW MEDICAL CENTER',\n",
       " 'FAIRFAX BEHAVIORAL HEALTH MONROE',\n",
       " 'PEACEHEALTH ST JOHN MEDICAL CENTER - BROADWAY CAMPUS',\n",
       " 'GRAYS HARBOR COMMUNITY HOSPITAL - EAST',\n",
       " 'SWEDISH MEDICAL CENTER - ISSAQUAH CAMPUS',\n",
       " 'GROUP HEALTH EASTSIDE HOSPITAL',\n",
       " 'U.S. COAST GUARD BASE SEATTLE MEDICAL CLINIC',\n",
       " 'NAVAL BRANCH HEALTH CLINIC BANGOR',\n",
       " 'SHRINERS HOSPITAL FOR CHILDREN-PORTLAND',\n",
       " 'ELLIS HEALTH CENTER',\n",
       " 'LENOX HILL HEALTHPLEX',\n",
       " 'STATEN ISLAND UNIV HOSP-CONCORD DIV',\n",
       " 'KELLER ARMY COMMUNITY HOSPITAL',\n",
       " 'VA MEDICAL CENTER - BATAVIA',\n",
       " 'VA MEDICAL CENTER - ALBANY STRATTON',\n",
       " 'VA MEDICAL CENTER - BUFFALO',\n",
       " 'VA MEDICAL CENTER - MANHATTAN CAMPUS',\n",
       " 'VA MEDICAL CENTER - NORTHPORT',\n",
       " 'VA MEDICAL CENTER - BROOKLYN CAMPUS',\n",
       " 'ST. ALBANS COMMUNITY LIVING CENTER',\n",
       " 'MALLARD FILLMORE GATES',\n",
       " 'BRISTOL MYERS SQUIBB CHILDRENS HOSPITAL',\n",
       " 'VA MEDICAL CENTER - HUNTINGTON',\n",
       " 'VA MEDICAL CENTER - MARTINSBURG',\n",
       " 'SWEDISHAMERICAN MEDICAL CENTER BELVIDERE',\n",
       " 'OHSU TRANSPLANT HOSPITAL',\n",
       " 'FLORENCE COMMUNITY HEALTHCARE',\n",
       " 'OREGON STATE HOSPITAL JUNCTION CITY',\n",
       " 'HELEN M SIMPSON REHABILITATION HOSPITAL',\n",
       " 'NEW JERSEY STATE PRISON HOSPITAL',\n",
       " 'SOUTH JERSEY HEALTH CARE CENTER',\n",
       " 'INSPIRA HEALTH CENTER BRIDGETON',\n",
       " 'MERWICK REHABILITATION HOSPITAL AND NURSING CARE CENTER',\n",
       " 'PROFESSIONAL HOSPITAL',\n",
       " 'HOSP EPISCOPAL SAN LUCAS 2',\n",
       " 'MEDICAL CENTER OF NEWARK LLC',\n",
       " 'ARIZONA STATE HOSPITAL',\n",
       " 'ARIZONA STATE FORENSIC HOSPITAL',\n",
       " 'COPPER HILLS YOUTH CENTER',\n",
       " 'LONE PEAK HOSPITAL',\n",
       " 'UTAH VALLEY SPECIALTY HOSPITAL',\n",
       " 'SALT LAKE BEHAVIORAL HEALTH',\n",
       " 'VIEWPOINT ASSESSMENT CENTER',\n",
       " 'ST. ELIAS SPECIALTY HOSPITAL',\n",
       " 'HEARTLAND BEHAVIORAL HEALTHCARE',\n",
       " 'US ARMY HOSPITAL-YUMA',\n",
       " 'CSF - UTUADO',\n",
       " 'TWELVE-STEP LIVING CORPORATION - TALLGRASS RECOVERY CENTER',\n",
       " 'GOOD HANDS MEDICAL',\n",
       " 'US AIR FORCE HOSPITAL-TUCSON',\n",
       " 'CROSS ROAD MEDICAL CENTER',\n",
       " 'PHOENIX HOUSE OF NEW ENGLAND - PHOENIX ACADEMY MAINE',\n",
       " 'BURKE REHABILITATION CENTER',\n",
       " 'COORDINATED HEALTH ORTHOPEDIC HOSPITAL',\n",
       " 'KILBARCHAN RESIDENTIAL TREATMENT CENTER',\n",
       " 'SOUTHEAST MISSOURI MENTAL HEALTH CENTER',\n",
       " 'LAFAYETTE-AMG SPECIALTY HOSPITAL',\n",
       " 'ST MARY REHABILITATION HOSPITAL',\n",
       " 'SANFORD TRANSPLANT CENTER',\n",
       " 'DIGINITY HEALTH-ST.ROSE DOMINICAN BLUE DAIMOND CAMPUS',\n",
       " 'PAM REHABILITATION HOSPITAL OF CENTENNIAL HILLS',\n",
       " 'HENDERSON HOSPITAL',\n",
       " 'HOSPITAL PEREA',\n",
       " 'BALTIMORE VA MEDICAL CENTER',\n",
       " 'LOCH RAVEN VA MEDICAL CENTER',\n",
       " 'PERRY POINT VA MEDICAL CENTER',\n",
       " 'WASHINGTON DC VA MEDICAL CENTER',\n",
       " 'OLANDO VA MEDICAL CENTER',\n",
       " 'LEXINGTON VA MEDICAL CENTER - COOPER',\n",
       " 'ROBLEY REX VA MEDICAL CENTER',\n",
       " 'ST JOSEPH COUNTY VA HEALTH CARE CENTER',\n",
       " 'CINCINNATI VA MEDICAL CENTER - FORT THOMAS',\n",
       " 'ALEXANDRIA VA HEALTH CARE SYSTEM',\n",
       " 'SOUTHEAST LOUISIANA VETERANS HEALTH CARE SYSTEM',\n",
       " 'JOHN L MCCLELLAN MEMORIAL VETERANS HOSPITAL',\n",
       " 'VETERANS HEALTH CARE SYSTEM OF THE OZARKS',\n",
       " 'VA EASTERN COLORADO HEALTHCARE SYSTEM',\n",
       " 'SPARK M. MATSUNAGA VA MEDICAL CENTER',\n",
       " 'VA NEBRASKA-WESTERN IOWA HEALTH CARE SYSTEM',\n",
       " 'COBALTH REHABILITATION HOSPITAL',\n",
       " 'HOLLY HILL HOSPITAL',\n",
       " 'SERENITY SPRINGS SPECIALTY HOSPITAL',\n",
       " 'BRONX PSYCHIATRIC CENTER',\n",
       " 'DIGNITY HEALTH-ST. ROSE DOMINICAN SAHARA CAMPUS',\n",
       " \"NEW YORK CITY CHILDREN'S CENTER - INPATIENT\",\n",
       " 'GREATER BINGHAMTON HEALTH CENTER',\n",
       " 'BUFFALO PSYCHIATRIC CENTER',\n",
       " \"WESTERN NEW YORK CHILDREN'S PSYCHIATRIC CENTER\",\n",
       " 'KINGSBORO PSYCHIATRIC CENTER',\n",
       " 'ROCHESTER PSYCHIATRIC CENTER',\n",
       " 'KIRBY FORENSIC PSYCHIATRIC CENTER',\n",
       " 'MANHATTAN PSYCHIATRIC CENTER',\n",
       " 'NEW YORK PSYCHIATRIC INSTITUTE',\n",
       " 'CENTRAL NEW YORK PSYCHIATRIC CENTER',\n",
       " 'MOHAWK VALLEY PSYCHIATRIC CENTER',\n",
       " 'MID HUDSON FORENSIC PSYCHIATRIC CENTER',\n",
       " 'CREEDMOOR PSYCHIATRIC CENTER',\n",
       " \"NEW YORK CITY CHILDREN'S CENTER QUEENS INPATIENT\",\n",
       " 'SOUTH BEACH PSYCHIATRIC CENTER',\n",
       " 'VERITAS COLLABORATIVE NORTH CAROLINA LLC',\n",
       " 'OLD VINEYARD YOUTH SERVICES',\n",
       " 'BRYNN MARR HOSPITAL',\n",
       " 'STRATEGIC BEHAVIORAL CENTER GARNER',\n",
       " 'UNC HOSPITALS AT WAKEBROOK',\n",
       " 'SUN BEHAVIORAL COLUMBUS',\n",
       " 'ASSURANCE HEALTH CINCINNATI LLC',\n",
       " 'TRIHEALTH REHABILITATION HOSPITAL LLC',\n",
       " 'CLEAR VISTA HEALTH & WELLNESS',\n",
       " 'CLEVELAND CLINIC AVON HOSPITAL',\n",
       " 'UNIVERSITY HOSPITALS AVON REHABILITATION HOSPITAL',\n",
       " 'REHABILITATION HOSPITAL OF NORTHWEST OHIO LLC',\n",
       " 'AVITA ONTARIO',\n",
       " 'SOJOURN AT SENECA',\n",
       " 'SPRINGLAKE BEHAVIORAL HEALTH BUNKIE',\n",
       " \"EUGENE J. TOWBIN VETERAN'S HEALTHCARE CENTER\",\n",
       " 'NORTH MONROE MEDICAL CENTER',\n",
       " 'EAST CENTRAL REGIONAL HOSPITAL - GRACEWOOD',\n",
       " 'CHARLIE NORWOOD VA MEDICAL CENTER',\n",
       " 'ELMIRA PSYCHIATRIC CENTER',\n",
       " 'VA MEDICAL CENTER - MARION, IN',\n",
       " 'HEALTHSOUTH REHABILITATION HOSPITAL OF MANATI',\n",
       " 'SAN CARLOS APACHE HEALTHCARE CORPORATION',\n",
       " 'BAPTIST HEALTH MEDICAL CENTER-CONWAY',\n",
       " 'PARTRIDGE HOUSE',\n",
       " 'RENO BEHAVIORAL HEALTHCARE HOSPITAL',\n",
       " 'HU-HU-KAM MEMORIAL HOSPITAL (SACATON)',\n",
       " 'ST LUKES HOSPITAL MONROE CAMPUS',\n",
       " 'ACOMA-CANONCITO-LAGUNA (ACL) HOSPITAL',\n",
       " 'UNITY HEALING CENTER',\n",
       " 'WILMINGTON VA MEDICAL CENTER',\n",
       " 'GRACE HOSPITAL SOUTH POINTE',\n",
       " 'ATLANTA VA HEALTH MEDICAL CENTER',\n",
       " 'RINCON MEDICAL CENTER',\n",
       " 'LEXINGTON VA MEDICAL CENTER - LEESTOWN',\n",
       " 'CAVHCS EAST CAMPUS',\n",
       " \"CONNECTICUT CHILDBIRTH & WOMEN'S CENTER\",\n",
       " 'GUAM REGIONAL MEDICAL CITY',\n",
       " 'ADIRONDACK MEDICAL CENTER-LAKE PLACID SITE',\n",
       " 'EFFICACY HEALTH SERVICES LLC',\n",
       " 'EATING RECOVERY CENTER A BEHAVIORAL HOSPITAL',\n",
       " 'HAVEN BEHAVIORAL HOSPITAL OF SOUTHERN COLO',\n",
       " 'APOLLO BEHAVIORAL HEALTH HOSPITAL',\n",
       " 'VA MEDICAL CENTER - UNIVERSITY DRIVE CAMPUS',\n",
       " 'HAVEN BEHAVIORAL HOSPITAL OF PHILADELPHIA',\n",
       " 'BHC FAIRFAX HOSPITAL NORTH',\n",
       " 'SUTTER COAST HOSPITAL',\n",
       " 'KINDRED HOSPITAL - LAS VEGAS AT DESERT SPRINGS HOS',\n",
       " 'OVERTON BROOKS VA MEDICAL CENTER',\n",
       " 'FORT DEFIANCE INDIAN HOSPITAL',\n",
       " 'SELECT SPECIALTY HOSPITAL-ZANESVILLE INC',\n",
       " 'CHRISTUS DUBUIS HOSPITAL OF ALEXANDRIA',\n",
       " 'ST. LANDRY EXTENDED CARE HOSPITAL',\n",
       " 'UPMC PINNACLE HOSPITAL',\n",
       " 'CASA AMISTAD',\n",
       " 'BUCKHEAD AMBULATORY SURGICAL CENTER',\n",
       " 'CRESCENT CITY SPECIALTY HOSPITAL',\n",
       " 'PROMISE HOSPITAL OF BATON ROUGE, INC.',\n",
       " 'KINDRED HOSPITAL AT ST ROSE DE LIMA CAMPUS',\n",
       " 'TAHOE PACIFIC HOSPITALS-NORTH',\n",
       " 'GREENBRIAR REHABILITATION HOSPITAL',\n",
       " 'THE NEUROMEDICAL CENTER REHABILITATION HOSPITAL',\n",
       " 'BEACON BEHAVIORAL HOSPITAL NORTHSHORE',\n",
       " 'PELICAN REHABILITATION HOSPITAL, LLC',\n",
       " 'HAVEN SENIOR HORIZONS',\n",
       " 'SELECT SPECIALTY HOSPITAL ARIZONA INC.',\n",
       " 'WILLS EYE HOSPITAL',\n",
       " 'EIELSON MEDICAL CLINIC',\n",
       " 'NAVAL HEALTH CLINIC CHERRY POINT',\n",
       " 'ST. BERNARD PARISH HOSPITAL',\n",
       " 'BANNER GOOD SAMARITAN MEDICAL CENTER',\n",
       " 'VA MEDICAL CENTER - CASTLE POINT CAMPUS',\n",
       " \"ST JOHN'S EPISCOPAL HOSPITAL SOUTH SHORE\",\n",
       " 'MINDEN FAMILY MEDICINE AND COMPLETE CARE',\n",
       " 'PROFESSIONAL HOSP INC - MANATI',\n",
       " 'HOSP SAN ANTONIO INC',\n",
       " 'HOSP UNIVERSITARIO DE ADULTOS',\n",
       " 'SJ VETERANS ADMINISTRATION CARIBBEAN HEALTHCARE SYSTEM',\n",
       " 'HOSP MUNICIPAL DE SAN JUAN DR RAFAEL LOPEZ NUSSA',\n",
       " 'CENTRO DE SALUD COMUNAL DE CULEBRA',\n",
       " 'COMMONWEALTH HEALTH CENTER',\n",
       " 'WASHINGTON COUNTY HOSPITAL',\n",
       " 'ALTUS LUMBERTON LP',\n",
       " 'BLUERIDGE VISTA HEALTH AND WELLNESS',\n",
       " 'SUMMIT BEHAVIORAL HEALTHCARE',\n",
       " 'ALLEN COUNTY REGIONAL HOSPITAL',\n",
       " 'COFFEY COUNTY HOSPITAL LTCU',\n",
       " 'CHEROKEE NATION W. W. HASTINGS HOSPITAL',\n",
       " 'CHOCTAW NATION INDIAN HOSPITAL (TALIHINA)',\n",
       " \"99TH MEDICAL GROUP - MIKE O'CALLAGHAN FEDERAL MEDICAL CENTER\",\n",
       " 'WILLIAM JENNINGS BRYAN DORN VA MEDICAL CENTER',\n",
       " 'WESTERVILLE MEDICAL CAMPUS',\n",
       " 'VA MEDICAL CENTER - DALLAS',\n",
       " 'WEST SPRINGS HOSPITAL',\n",
       " 'WOODLANDS PSYCHIATRIC HEALTH FACILITY',\n",
       " '9TH MEDICAL GROUP',\n",
       " 'OPTIMA SPECIALTY HOSPITAL',\n",
       " 'NAVAL HEALTH CLINIC NEW ENGLAND, NEWPORT',\n",
       " 'FALLBROOK HOSP DISTRICT SKILLED NURSING FACILITY',\n",
       " 'GENESIS BEHAVIORAL HOSPITAL',\n",
       " 'CROWLEY REHAB HOSPITAL, LLC',\n",
       " 'RIVERSIDE HOSPITAL OF LOUISIANA',\n",
       " 'ALLEGIANCE HEALTH CENTER OF RUSTON',\n",
       " 'CHARITY HOSPITAL AND MEDICAL CENTER OF LA. AT NEW ORLEANS',\n",
       " 'EXTENDED CARE OF SOUTHWEST LOUISIANA',\n",
       " 'LAFAYETTE SURGICAL SPECIALTY HOSPITAL',\n",
       " 'LOUISIANA EXTENDED CARE HOSPITAL OF NATCHITOCHES',\n",
       " 'NORTHLAKE BEHAVIORAL HEALTH SYSTEM',\n",
       " 'POST ACUTE SPECIALTY HOSPITAL OF HAMMOND',\n",
       " 'JENNINGS SENIOR CARE HOSPITAL',\n",
       " 'WINN ARMY COMMUNITY HOSPITAL',\n",
       " 'VA MEDICAL CENTER - LIVERMORE DIVISION',\n",
       " 'VA LONG BEACH HEALTHCARE SYSTEM',\n",
       " 'EAST BAY DIVISION - MARTINEZ OUTPATIENT CLINIC',\n",
       " 'VA MEDICAL CENTER - SACRAMENTO',\n",
       " 'SAN FRANCISCO VA HEALTH CARE SYSTEM',\n",
       " 'SEPULVEDA AMBULATORY CARE CENTER',\n",
       " 'VA LOMA LINDA HEALTHCARE SYSTEM',\n",
       " 'VA SAN DIEGO HEALTHCARE SYSTEM',\n",
       " 'LOUISIANA CONTINUING CARE HOSPITAL',\n",
       " 'BATON ROUGE GENERAL MEDICAL CENTER (BLUEBONNET)',\n",
       " 'WK PIERREMONT HEALTH CENTER',\n",
       " 'IOWA CITY VA MEDICAL CENTER',\n",
       " 'SOUTHCOAST BEHAVIORAL HEALTH',\n",
       " 'NEA BAPTIST MEMORIAL HOSPITAL',\n",
       " 'HOWARD MEMORIAL HOSPITAL',\n",
       " 'ACUITY SPECIALTY HOSPITAL OF ARIZONA AT SUN CITY',\n",
       " 'NORTHAMPTON VA MEDICAL CENTER',\n",
       " 'OSCAR G. JOHNSON VA MEDICAL CENTER',\n",
       " 'ST JOSEPH MERCY HOSPITAL-SALINE',\n",
       " 'METROPOLITAN ST. LOUIS PSYCHIATRIC CENTER',\n",
       " 'LIVINGSTON HEALTHCARE',\n",
       " 'NAVAL HOSPITAL CAMP LEJEUNE',\n",
       " 'WOMACK ARMY MEDICAL CENTER',\n",
       " 'VA MEDICAL CENTER - DURHAM',\n",
       " 'VA MEDICAL CENTER - FAYETTEVILLE',\n",
       " 'CHARLES GEORGE VA MEDICAL CENTER',\n",
       " 'W. G. (BILL) HEFNER VA MEDICAL CENTER',\n",
       " 'NOVANT HEALTH BRUNSWICK MEDICAL CENTER',\n",
       " 'P H S INDIAN HOSP AT BELCOURT-QUENTIN N BURDICK',\n",
       " 'KINGMAN REGIONAL MEDICAL CENTER-HUALAPAI MOUNTAIN CAMPUS',\n",
       " 'WESTERN STATE HOSPITAL',\n",
       " 'FRANCISCAN ALLIANCE, INC. - DBA FRANCISCAN ST. JAMES HEALTH-CHICAGO HEIGHTS',\n",
       " 'LITTLE HILL ALINA LODGE',\n",
       " 'ST MARYS HOSPITAL',\n",
       " 'TRINITY MEDICAL CENTER - 7TH STREET CAMPUS - DBA TRINITY MOLINE',\n",
       " 'KAISER FOUNDATION HOSPITAL - WESTSIDE',\n",
       " 'CASS LAKE HOSPITAL',\n",
       " 'RED LAKE HOSPITAL',\n",
       " 'FORT BELKNAP HOSPITAL',\n",
       " 'VA MEDICAL CENTER - WEST ROXBURY DIVISION',\n",
       " 'ALEDA E. LUTZ VA MEDICAL CENTER',\n",
       " 'G.V. (SONNY) MONTGOMERY VA MEDICAL CENTER',\n",
       " 'RAYMOND G. MURPHY VA MEDICAL CENTER',\n",
       " 'VA MEDICAL CENTER - LYONS CAMPUS',\n",
       " 'VA MEDICAL CENTER AND AMBULATORY CARE CLINIC',\n",
       " 'GULF COAST VETERANS HEALTH CARE SYSTEM',\n",
       " 'CHALMERS P. WYLIE VA AMBULATORY CARE CENTER',\n",
       " 'VA BUTLER HEALTHCARE',\n",
       " 'VA MEDICAL CENTER - FORT MEADE CAMPUS',\n",
       " 'VA CARIBBEAN HEALTHCARE SYSTEM',\n",
       " 'VA MEDICAL CENTER - WHITE RIVER JUNCTION',\n",
       " 'VIA CHRISTI HOSPITAL ST. JOSEPH',\n",
       " 'PARSONS STATE HOSPITAL',\n",
       " 'OU MEDICAL CENTER EDMOND-ER',\n",
       " 'IU HEALTH UNIVERSITY HOSPITAL',\n",
       " 'RILEY HOSPITAL FOR CHILDREN',\n",
       " 'BETHESDA ARROW SPRINGS-ER',\n",
       " 'METHODIST HOSPITAL-SOUTHLAKE',\n",
       " 'EL PASO VA HEALTH CARE SYSTEM',\n",
       " 'JOHN & MARY KIRBY HOSPITAL',\n",
       " 'COMMUNITY HOSPITAL',\n",
       " 'RANGELY DISTRICT HOSPITAL',\n",
       " 'BALDPATE HOSPITAL',\n",
       " \"ST. JOSEPH'S CHILDREN'S HOSPITAL\",\n",
       " 'COBALT REHABILITATION HOSPITAL IV, LLC',\n",
       " 'JOHN D. DINGELL VA MEDICAL CENTER',\n",
       " 'VA ANN ARBOR HEALTHCARE SYSTEM',\n",
       " 'ST. ALEXIUS HOSPITAL - JEFFERSON CAMPUS',\n",
       " 'ST. LOUIS PSYCHIATRIC REHABILITATION CENTER',\n",
       " \"WOMEN'S AND CHILDREN'S HOSPITAL\",\n",
       " 'POPLAR BLUFF REGIONAL MEDICAL CENTER - SOUTH',\n",
       " 'CROW HOSPITAL',\n",
       " 'NEW HANOVER REGIONAL MEDICAL CENTER ORTHOPEDIC HOSPITAL',\n",
       " 'BRYCE HOSPITAL',\n",
       " 'FARGO VA MEDICAL CENTER',\n",
       " 'ST JOSEPHS HOSPITAL',\n",
       " 'HUNTSVILLE HOSPITAL WOMEN & CHILDREN-ER',\n",
       " 'GOTTSCHE REHABILITATION CENTER',\n",
       " 'CENTRO MEDICO CORRECIONAL',\n",
       " 'HOSP UPR CAROLINA',\n",
       " 'CENTRO DE SALUD SUSANA CENTENO - VIEQUES',\n",
       " 'GORYEB CHILDRENS CENTER',\n",
       " 'HOSP PSIQUIATRIA FORENSE DE PONCE',\n",
       " 'NORTHWEST OHIO PSYCHIATRIC HOSPITAL',\n",
       " 'CARSON TAHOE DAYTON HOSPITAL',\n",
       " 'DESERT PARKWAY BEHAVIORAL HEALTHCARE HOSPITAL, LLC',\n",
       " 'REMUDA RANCH CENTER FOR ANOREXIA AND BULIMIA, INC',\n",
       " 'PUBLIC HEALTH SERV INDIAN HOSP',\n",
       " 'VA MEDICAL CENTER - CHILLICOTHE',\n",
       " \"EVANSVILLE PSYCHIATRIC CHILDREN'S CENTER\",\n",
       " 'MONROE HOSPITAL',\n",
       " 'MOUNT SINAI REHABILITATION HOSPITAL',\n",
       " 'FAIRBANKS',\n",
       " 'DRUG REHABILITATION INCORPORATED - DAY ONE RESIDENCE',\n",
       " 'PINNACLEHEALTH COMMUNITY CAMPUS',\n",
       " 'BANNER GOLDFIELD MEDICAL CENTER',\n",
       " 'HEALTHSOUTH VALLEY OF THE SUN REHABILITATION',\n",
       " 'NORTH SHORE MEDICAL CENTER  - UNION CAMPUS',\n",
       " 'BERKSHIRE MEDICAL CENTER - HILLCREST CAMPUS',\n",
       " 'GILA RIVER HEALTH CARE CORPORATION',\n",
       " 'SELECT SPECIALTY HOSPITAL LAUREL HIGHLANDS INC',\n",
       " 'UNIVERSITY OF ARIZONA MEDICAL CENTER- UNIVERSITY CAMPUS, THE',\n",
       " 'US PHS WINSLOW INDIAN HOSPITAL',\n",
       " 'PARKER IHS INDIAN HOSPITAL',\n",
       " 'SOUTHEASTHEALTH CENTER OF REYNOLDS COUNTY',\n",
       " 'WILLIAM N WISHARD MEMORIAL HOSPITAL',\n",
       " 'VETERANS AFFAIRS BLACK HILLS HEALTH CARE SYSTEM - HOT SPRINGS CAMPUS',\n",
       " 'CENTRAL STATE HOSPITAL',\n",
       " 'CASCADE BEHAVIORAL HOSPITAL',\n",
       " 'LOUIS A. JOHNSON VA MEDICAL CENTER',\n",
       " 'VA MEDICAL CENTER - OKLAHOMA CITY',\n",
       " 'JACK C. MONTGOMERY VA MEDICAL CENTER',\n",
       " \"THE WOMEN'S HOSPITAL AT CENTENNIAL\",\n",
       " 'HASBRO CHILDRENS HOSPITAL',\n",
       " 'DEPARTMENT OF VETERANS AFFAIRS MEDICAL CENTER',\n",
       " 'ST CHARLES PRINEVILLE',\n",
       " 'HIMA SAN PABLO - FAJARDO',\n",
       " 'HOSP DR DOMINGUEZ INC',\n",
       " 'DIXIE REGIONAL MEDICAL CENTER - RIVER ROAD CAMPUS',\n",
       " 'GREENBAUM SURGICAL SPECIALTY HOSPITAL',\n",
       " \"SOUTHWESTERN CHILDREN'S HEALTH SERVICES, INC (ACADIA HEALTHCARE)\",\n",
       " \"TEMPE ST LUKE'S HOSPITAL, A CAMPUS OF ST LUKE'S MEDICAL CENTER\",\n",
       " 'EXCELA HEALTH WESTMORELAND HOSP JEANETTE',\n",
       " 'SPRINGFIELD HOSPITAL',\n",
       " 'METHODIST HOSPITAL-ER',\n",
       " 'LEHIGH VALLEY HOSPITAL-17TH ST',\n",
       " 'BRADLEY CENTER OF SAINT FRANCIS',\n",
       " 'US AIR FORCE HOSPITAL-GLENDALE - CLOSED',\n",
       " 'US ARMY HOSPITAL-FT HUACHUCA',\n",
       " 'PHOENIX INDIAN MEDICAL CENTER',\n",
       " 'TUBA CITY REGIONAL HEALTH CARE',\n",
       " 'CHINLE COMPREHENSIVE HEALTH CARE FACILITY',\n",
       " 'SELLS HOSPITAL',\n",
       " 'SAN CARLOS HOSPITAL',\n",
       " 'ST VINCENT HOSPITAL',\n",
       " 'SOUTHERN VIRGINIA MENTAL HEALTH INSTITUTE',\n",
       " 'DOCTORS DIAGNOSTIC CENTER- WILLIAMSBURG',\n",
       " 'NAVAL HEALTH CLINIC (JOHN HENRY BALCH)',\n",
       " 'SACRED HEART UNIVERSITY DISTRICT',\n",
       " 'PROVIDENCE REGIONAL MEDICAL CENTER EVERETT/PACIFIC CAMPUS']"
      ]
     },
     "execution_count": 140,
     "metadata": {},
     "output_type": "execute_result"
    }
   ],
   "source": [
    "df_null = df[df['BEDS_newcol'].isnull()]\n",
    "\n",
    "list_names_null = list(df_null['NAME'])\n",
    "list_names_null"
   ]
  },
  {
   "cell_type": "markdown",
   "metadata": {},
   "source": [
    "# Seaborn PairPlot\n",
    "\n",
    "#### First we'll load in a new dataset from Seabron called `\"iris\"`"
   ]
  },
  {
   "cell_type": "code",
   "execution_count": 240,
   "metadata": {},
   "outputs": [],
   "source": [
    "iris = sns.load_dataset(\"iris\")"
   ]
  },
  {
   "cell_type": "markdown",
   "metadata": {},
   "source": [
    "#### Check out the `iris` DataFrame"
   ]
  },
  {
   "cell_type": "code",
   "execution_count": null,
   "metadata": {},
   "outputs": [],
   "source": []
  },
  {
   "cell_type": "markdown",
   "metadata": {},
   "source": [
    "#### Now let's use the `.pairplot()` to show Distributions along with Scatterplots\n",
    "\n"
   ]
  },
  {
   "cell_type": "code",
   "execution_count": null,
   "metadata": {},
   "outputs": [],
   "source": []
  },
  {
   "cell_type": "markdown",
   "metadata": {},
   "source": [
    "#### Now let's set a Column as a Seperate Class"
   ]
  },
  {
   "cell_type": "code",
   "execution_count": null,
   "metadata": {},
   "outputs": [],
   "source": []
  },
  {
   "cell_type": "markdown",
   "metadata": {},
   "source": [
    "#### Seaborn `.scatterplot()`"
   ]
  },
  {
   "cell_type": "code",
   "execution_count": 10,
   "metadata": {},
   "outputs": [],
   "source": [
    "plt.figure(figsize=(13, 7))\n",
    "\n",
    "sns.scatterplot(\n",
    "    data=df[\n",
    "        (df['STATE'] != 'PW') & (df['STATE'] != 'GU') & (df['STATE'] != 'MP') & (df['STATE'] != 'AK') & (df['STATE'] != 'HI') & (df['STATE'] != 'PR') & (df['STATE'] != 'VI')\n",
    "    ],\n",
    "    x=\"LONGITUDE\", \n",
    "    y=\"LATITUDE\", \n",
    "    size=\"BEDS_newcol\",\n",
    "    sizes=(5, 500),\n",
    "    alpha=0.7,\n",
    ");  # note this isn't a true python mapping library, just scatter plot"
   ]
  },
  {
   "cell_type": "markdown",
   "metadata": {},
   "source": [
    "# Missing Values (Nulls) with Missingno\n",
    "\n",
    "#### Read in the `.csv` as `missing_df`. "
   ]
  },
  {
   "cell_type": "code",
   "execution_count": 245,
   "metadata": {},
   "outputs": [],
   "source": [
    "missing_df = pd.read_csv('data/missing_values_example.csv')"
   ]
  },
  {
   "cell_type": "markdown",
   "metadata": {},
   "source": [
    "#### Use `msno.matrix()` to visualize our Missing Data"
   ]
  },
  {
   "cell_type": "code",
   "execution_count": null,
   "metadata": {},
   "outputs": [],
   "source": []
  },
  {
   "cell_type": "markdown",
   "metadata": {},
   "source": [
    "# End Lesson 04"
   ]
  }
 ],
 "metadata": {
  "kernelspec": {
   "display_name": "Python 3",
   "language": "python",
   "name": "python3"
  },
  "language_info": {
   "codemirror_mode": {
    "name": "ipython",
    "version": 3
   },
   "file_extension": ".py",
   "mimetype": "text/x-python",
   "name": "python",
   "nbconvert_exporter": "python",
   "pygments_lexer": "ipython3",
   "version": "3.7.4"
  },
  "toc": {
   "base_numbering": 1,
   "nav_menu": {},
   "number_sections": false,
   "sideBar": true,
   "skip_h1_title": false,
   "title_cell": "Table of Contents",
   "title_sidebar": "Contents",
   "toc_cell": true,
   "toc_position": {
    "height": "calc(100% - 180px)",
    "left": "10px",
    "top": "150px",
    "width": "240.4px"
   },
   "toc_section_display": true,
   "toc_window_display": true
  }
 },
 "nbformat": 4,
 "nbformat_minor": 2
}
